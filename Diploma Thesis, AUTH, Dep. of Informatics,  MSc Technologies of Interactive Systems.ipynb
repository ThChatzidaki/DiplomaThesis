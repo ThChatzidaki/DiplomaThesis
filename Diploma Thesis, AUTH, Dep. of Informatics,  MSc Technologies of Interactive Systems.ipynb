{
 "cells": [
  {
   "cell_type": "code",
   "execution_count": 1535,
   "metadata": {},
   "outputs": [],
   "source": [
    "import numpy as np\n",
    "import matplotlib.pyplot as plt\n",
    "from numpy import mean\n",
    "from numpy import std\n",
    "import pandas as pd\n",
    "import seaborn as sn\n",
    "import scipy.stats as stats\n",
    "from statsmodels.graphics.gofplots import qqplot\n",
    "from sklearn.model_selection import KFold   # sklearn k-fold cross-validation\n",
    "from sklearn.model_selection import train_test_split\n",
    "from sklearn.preprocessing import StandardScaler\n",
    "from sklearn.linear_model import LogisticRegression\n",
    "from sklearn.naive_bayes import GaussianNB\n",
    "from sklearn import svm\n",
    "from sklearn import tree\n",
    "from sklearn import neighbors, linear_model\n",
    "from sklearn.pipeline import Pipeline #  apply a series of data transformations followed by the application of an estimator\n",
    "from sklearn.decomposition import PCA\n",
    "from sklearn import metrics\n",
    "from sklearn.metrics import classification_report\n",
    "from sklearn.metrics import precision_score, recall_score, f1_score, accuracy_score, roc_auc_score, make_scorer\n",
    "from sklearn.model_selection import cross_val_score\n",
    "from sklearn.model_selection import cross_val_predict\n",
    "from sklearn.metrics import confusion_matrix\n",
    "from sklearn.ensemble import BaggingClassifier\n",
    "import warnings\n",
    "warnings.filterwarnings('ignore')"
   ]
  },
  {
   "cell_type": "markdown",
   "metadata": {},
   "source": [
    "# DATA Retrieval"
   ]
  },
  {
   "cell_type": "code",
   "execution_count": 1536,
   "metadata": {},
   "outputs": [
    {
     "data": {
      "text/plain": [
       "Index(['ID', 'Επίδοση_Α1', 'STARTED', 'DROPOUT', 'Φύλο', 'Ηλικία',\n",
       "       'Απασχόληση', 'Σπουδές', 'Εμπειρία_MOOC', 'Εμπειρία_ προγρ',\n",
       "       'Εμπειρία_ Python', 'Πρόθεση_συμμ', 'SRL START num', 'Outro SRL',\n",
       "       'SRL START categ', 'Cluster (AFTER)', 'Subgroup'],\n",
       "      dtype='object')"
      ]
     },
     "execution_count": 1536,
     "metadata": {},
     "output_type": "execute_result"
    }
   ],
   "source": [
    "df = pd.read_excel('MOOC34_Clean 10-2-22.xlsx', usecols=\"A, AW, BE:BM, BP, DO, IC, IE:IG\")\n",
    "df.columns"
   ]
  },
  {
   "cell_type": "markdown",
   "metadata": {},
   "source": [
    "## DATA Exploration"
   ]
  },
  {
   "cell_type": "code",
   "execution_count": 1537,
   "metadata": {},
   "outputs": [
    {
     "name": "stdout",
     "output_type": "stream",
     "text": [
      "<class 'pandas.core.frame.DataFrame'>\n",
      "RangeIndex: 4386 entries, 0 to 4385\n",
      "Data columns (total 17 columns):\n",
      " #   Column            Non-Null Count  Dtype  \n",
      "---  ------            --------------  -----  \n",
      " 0   ID                3241 non-null   object \n",
      " 1   Επίδοση_Α1        1418 non-null   float64\n",
      " 2   STARTED           2406 non-null   float64\n",
      " 3   DROPOUT           1979 non-null   float64\n",
      " 4   Φύλο              2264 non-null   object \n",
      " 5   Ηλικία            2264 non-null   float64\n",
      " 6   Απασχόληση        2264 non-null   float64\n",
      " 7   Σπουδές           2264 non-null   object \n",
      " 8   Εμπειρία_MOOC     2264 non-null   float64\n",
      " 9   Εμπειρία_ προγρ   2264 non-null   float64\n",
      " 10  Εμπειρία_ Python  2264 non-null   float64\n",
      " 11  Πρόθεση_συμμ      2264 non-null   float64\n",
      " 12  SRL START num     2262 non-null   float64\n",
      " 13  Outro SRL         1225 non-null   float64\n",
      " 14  SRL START categ   2262 non-null   float64\n",
      " 15  Cluster (AFTER)   1225 non-null   float64\n",
      " 16  Subgroup          1872 non-null   float64\n",
      "dtypes: float64(14), object(3)\n",
      "memory usage: 582.6+ KB\n"
     ]
    }
   ],
   "source": [
    "df.info()  # Επίδοη_Α1: Άσκηση 1"
   ]
  },
  {
   "cell_type": "markdown",
   "metadata": {},
   "source": [
    "## DATA preprocessing and cleaning"
   ]
  },
  {
   "cell_type": "code",
   "execution_count": 1538,
   "metadata": {},
   "outputs": [
    {
     "data": {
      "text/plain": [
       "(1990, 17)"
      ]
     },
     "execution_count": 1538,
     "metadata": {},
     "output_type": "execute_result"
    }
   ],
   "source": [
    "df=df.dropna(subset=['SRL START num','STARTED'])   #Keep only 'Started' learners who answered Intro SRL questionnaire\n",
    "df.shape  "
   ]
  },
  {
   "cell_type": "code",
   "execution_count": 1539,
   "metadata": {},
   "outputs": [
    {
     "data": {
      "text/plain": [
       "(1564, 17)"
      ]
     },
     "execution_count": 1539,
     "metadata": {},
     "output_type": "execute_result"
    }
   ],
   "source": [
    "df=df.loc[df['Subgroup'] == 1]  #Keep the control group (baseline)\n",
    "df.shape"
   ]
  },
  {
   "cell_type": "code",
   "execution_count": 1540,
   "metadata": {},
   "outputs": [
    {
     "data": {
      "text/html": [
       "<div>\n",
       "<style scoped>\n",
       "    .dataframe tbody tr th:only-of-type {\n",
       "        vertical-align: middle;\n",
       "    }\n",
       "\n",
       "    .dataframe tbody tr th {\n",
       "        vertical-align: top;\n",
       "    }\n",
       "\n",
       "    .dataframe thead th {\n",
       "        text-align: right;\n",
       "    }\n",
       "</style>\n",
       "<table border=\"1\" class=\"dataframe\">\n",
       "  <thead>\n",
       "    <tr style=\"text-align: right;\">\n",
       "      <th></th>\n",
       "      <th>ID</th>\n",
       "      <th>Επίδοση_Α1</th>\n",
       "      <th>STARTED</th>\n",
       "      <th>DROPOUT</th>\n",
       "      <th>Φύλο</th>\n",
       "      <th>Ηλικία</th>\n",
       "      <th>Απασχόληση</th>\n",
       "      <th>Σπουδές</th>\n",
       "      <th>Εμπειρία_MOOC</th>\n",
       "      <th>Εμπειρία_ προγρ</th>\n",
       "      <th>Εμπειρία_ Python</th>\n",
       "      <th>Πρόθεση_συμμ</th>\n",
       "      <th>SRL START num</th>\n",
       "      <th>Outro SRL</th>\n",
       "      <th>SRL START categ</th>\n",
       "      <th>Cluster (AFTER)</th>\n",
       "      <th>Subgroup</th>\n",
       "    </tr>\n",
       "  </thead>\n",
       "  <tbody>\n",
       "    <tr>\n",
       "      <th>0</th>\n",
       "      <td>MOOC3_St1</td>\n",
       "      <td>10.0</td>\n",
       "      <td>1.0</td>\n",
       "      <td>1.0</td>\n",
       "      <td>2</td>\n",
       "      <td>5.0</td>\n",
       "      <td>1.0</td>\n",
       "      <td>3</td>\n",
       "      <td>2.0</td>\n",
       "      <td>3.0</td>\n",
       "      <td>1.0</td>\n",
       "      <td>3.0</td>\n",
       "      <td>4.560069</td>\n",
       "      <td>NaN</td>\n",
       "      <td>2.0</td>\n",
       "      <td>NaN</td>\n",
       "      <td>1.0</td>\n",
       "    </tr>\n",
       "    <tr>\n",
       "      <th>1</th>\n",
       "      <td>MOOC3_St2</td>\n",
       "      <td>NaN</td>\n",
       "      <td>1.0</td>\n",
       "      <td>1.0</td>\n",
       "      <td>2</td>\n",
       "      <td>4.0</td>\n",
       "      <td>1.0</td>\n",
       "      <td>3</td>\n",
       "      <td>2.0</td>\n",
       "      <td>2.0</td>\n",
       "      <td>2.0</td>\n",
       "      <td>1.0</td>\n",
       "      <td>4.056845</td>\n",
       "      <td>NaN</td>\n",
       "      <td>2.0</td>\n",
       "      <td>NaN</td>\n",
       "      <td>1.0</td>\n",
       "    </tr>\n",
       "    <tr>\n",
       "      <th>4</th>\n",
       "      <td>MOOC3_St5</td>\n",
       "      <td>10.0</td>\n",
       "      <td>1.0</td>\n",
       "      <td>NaN</td>\n",
       "      <td>2</td>\n",
       "      <td>5.0</td>\n",
       "      <td>1.0</td>\n",
       "      <td>2</td>\n",
       "      <td>3.0</td>\n",
       "      <td>3.0</td>\n",
       "      <td>2.0</td>\n",
       "      <td>4.0</td>\n",
       "      <td>4.663343</td>\n",
       "      <td>3.462642</td>\n",
       "      <td>2.0</td>\n",
       "      <td>1.0</td>\n",
       "      <td>1.0</td>\n",
       "    </tr>\n",
       "    <tr>\n",
       "      <th>6</th>\n",
       "      <td>MOOC3_St7</td>\n",
       "      <td>NaN</td>\n",
       "      <td>1.0</td>\n",
       "      <td>1.0</td>\n",
       "      <td>2</td>\n",
       "      <td>3.0</td>\n",
       "      <td>2.0</td>\n",
       "      <td>5</td>\n",
       "      <td>2.0</td>\n",
       "      <td>2.0</td>\n",
       "      <td>1.0</td>\n",
       "      <td>1.0</td>\n",
       "      <td>5.872520</td>\n",
       "      <td>NaN</td>\n",
       "      <td>3.0</td>\n",
       "      <td>NaN</td>\n",
       "      <td>1.0</td>\n",
       "    </tr>\n",
       "    <tr>\n",
       "      <th>7</th>\n",
       "      <td>MOOC3_St8</td>\n",
       "      <td>7.0</td>\n",
       "      <td>1.0</td>\n",
       "      <td>1.0</td>\n",
       "      <td>2</td>\n",
       "      <td>5.0</td>\n",
       "      <td>1.0</td>\n",
       "      <td>3</td>\n",
       "      <td>1.0</td>\n",
       "      <td>2.0</td>\n",
       "      <td>2.0</td>\n",
       "      <td>1.0</td>\n",
       "      <td>5.270238</td>\n",
       "      <td>NaN</td>\n",
       "      <td>3.0</td>\n",
       "      <td>NaN</td>\n",
       "      <td>1.0</td>\n",
       "    </tr>\n",
       "  </tbody>\n",
       "</table>\n",
       "</div>"
      ],
      "text/plain": [
       "          ID  Επίδοση_Α1  STARTED  DROPOUT Φύλο  Ηλικία  Απασχόληση Σπουδές  \\\n",
       "0  MOOC3_St1        10.0      1.0      1.0    2     5.0         1.0       3   \n",
       "1  MOOC3_St2         NaN      1.0      1.0    2     4.0         1.0       3   \n",
       "4  MOOC3_St5        10.0      1.0      NaN    2     5.0         1.0       2   \n",
       "6  MOOC3_St7         NaN      1.0      1.0    2     3.0         2.0       5   \n",
       "7  MOOC3_St8         7.0      1.0      1.0    2     5.0         1.0       3   \n",
       "\n",
       "   Εμπειρία_MOOC  Εμπειρία_ προγρ  Εμπειρία_ Python  Πρόθεση_συμμ  \\\n",
       "0            2.0              3.0               1.0           3.0   \n",
       "1            2.0              2.0               2.0           1.0   \n",
       "4            3.0              3.0               2.0           4.0   \n",
       "6            2.0              2.0               1.0           1.0   \n",
       "7            1.0              2.0               2.0           1.0   \n",
       "\n",
       "   SRL START num  Outro SRL  SRL START categ  Cluster (AFTER)  Subgroup  \n",
       "0       4.560069        NaN              2.0              NaN       1.0  \n",
       "1       4.056845        NaN              2.0              NaN       1.0  \n",
       "4       4.663343   3.462642              2.0              1.0       1.0  \n",
       "6       5.872520        NaN              3.0              NaN       1.0  \n",
       "7       5.270238        NaN              3.0              NaN       1.0  "
      ]
     },
     "execution_count": 1540,
     "metadata": {},
     "output_type": "execute_result"
    }
   ],
   "source": [
    "df.head()"
   ]
  },
  {
   "cell_type": "code",
   "execution_count": 1541,
   "metadata": {},
   "outputs": [
    {
     "data": {
      "text/plain": [
       "ID                    0\n",
       "Επίδοση_Α1          495\n",
       "STARTED               0\n",
       "DROPOUT             957\n",
       "Φύλο                  0\n",
       "Ηλικία                0\n",
       "Απασχόληση            0\n",
       "Σπουδές               0\n",
       "Εμπειρία_MOOC         0\n",
       "Εμπειρία_ προγρ       0\n",
       "Εμπειρία_ Python      0\n",
       "Πρόθεση_συμμ          0\n",
       "SRL START num         0\n",
       "Outro SRL           627\n",
       "SRL START categ       0\n",
       "Cluster (AFTER)     627\n",
       "Subgroup              0\n",
       "dtype: int64"
      ]
     },
     "execution_count": 1541,
     "metadata": {},
     "output_type": "execute_result"
    }
   ],
   "source": [
    "df.isnull().sum()   # check for missing values in variables"
   ]
  },
  {
   "cell_type": "code",
   "execution_count": 1542,
   "metadata": {},
   "outputs": [
    {
     "name": "stdout",
     "output_type": "stream",
     "text": [
      "STARTED  contains  1  labels\n",
      "[1.]\n",
      "DROPOUT  contains  2  labels\n",
      "[ 1. nan]\n",
      "Φύλο  contains  5  labels\n",
      "[2 1 '1, 1' '2, 2' 0]\n",
      "Ηλικία  contains  6  labels\n",
      "[5. 4. 3. 2. 1. 6.]\n",
      "Απασχόληση  contains  3  labels\n",
      "[1. 2. 0.]\n",
      "Σπουδές  contains  13  labels\n",
      "[3 2 5 1 7 4 0 '6, 6' 6 '5, 5' '3, 3' 8 '2, 2']\n",
      "Εμπειρία_MOOC  contains  4  labels\n",
      "[2. 3. 1. 0.]\n",
      "Εμπειρία_ προγρ  contains  5  labels\n",
      "[3. 2. 1. 4. 0.]\n",
      "Εμπειρία_ Python  contains  5  labels\n",
      "[1. 2. 3. 4. 0.]\n",
      "Πρόθεση_συμμ  contains  8  labels\n",
      "[3. 1. 4. 6. 2. 0. 5. 7.]\n",
      "SRL START categ  contains  4  labels\n",
      "[2. 3. 1. 4.]\n",
      "Cluster (AFTER)  contains  5  labels\n",
      "[nan  1.  3.  2.  4.]\n",
      "Subgroup  contains  1  labels\n",
      "[1.]\n",
      "Επίδοση_Α1  contains  10  labels\n",
      "[10. nan  7.  8.  5.  6.  9.  4.  3.  1.]\n"
     ]
    }
   ],
   "source": [
    "# view frequency counts of categorical variables levels\n",
    "# https://www.kaggle.com/prashant111/naive-bayes-classifier-in-python \n",
    "# Check for cardinality in categorical variables. The number of labels within a categorical variable is known as cardinality. \n",
    "# High cardinality may pose some serious problems in the machine learning model.\n",
    "for var in [   \n",
    "       'STARTED', 'DROPOUT', 'Φύλο',\n",
    "       'Ηλικία', 'Απασχόληση', 'Σπουδές',\n",
    "       'Εμπειρία_MOOC',\n",
    "       'Εμπειρία_ προγρ',\n",
    "       'Εμπειρία_ Python',\n",
    "       'Πρόθεση_συμμ',\n",
    "        'SRL START categ', 'Cluster (AFTER)',\n",
    "       'Subgroup', 'Επίδοση_Α1']: \n",
    "    print(var, ' contains ', len(df[var].unique()), ' labels')    # ΣΥΧΝΟΤΗΤΑ κάθε τιμής κατηγορικής μεταβλητής\n",
    "    print(df[var].unique())"
   ]
  },
  {
   "cell_type": "code",
   "execution_count": 1543,
   "metadata": {},
   "outputs": [
    {
     "data": {
      "text/plain": [
       "(1564, 17)"
      ]
     },
     "execution_count": 1543,
     "metadata": {},
     "output_type": "execute_result"
    }
   ],
   "source": [
    "df['DROPOUT'] = df['DROPOUT'].fillna(0)  # Replace DROPOUT Nan with 0\n",
    "df.shape  # view dimensions of dataset"
   ]
  },
  {
   "cell_type": "code",
   "execution_count": 1544,
   "metadata": {},
   "outputs": [
    {
     "data": {
      "text/plain": [
       "(1543, 17)"
      ]
     },
     "execution_count": 1544,
     "metadata": {},
     "output_type": "execute_result"
    }
   ],
   "source": [
    "df = df.loc[(df['Φύλο'] != 0.0)]  #Remove rows where Gender='0.0'\n",
    "df = df.loc[(df['Απασχόληση'] != 0.0)]   \n",
    "df = df.loc[(df['Σπουδές'] != 0.0)]  \n",
    "df = df.loc[(df['Εμπειρία_MOOC'] != 0.0)]\n",
    "df = df.loc[(df['Πρόθεση_συμμ'] != 0.0)]\n",
    "\n",
    "df['Σπουδές'].unique()\n",
    "df.shape"
   ]
  },
  {
   "cell_type": "code",
   "execution_count": 1545,
   "metadata": {},
   "outputs": [],
   "source": [
    "# correction of Educ levels (contain values like '6,  6'  -> must be transformed to 6.0)\n",
    "Educ_array=df['Σπουδές'].to_numpy()\n",
    "Gender_array=df['Φύλο'].to_numpy()\n",
    "j=0\n",
    "for i in Educ_array:  \n",
    "    if ',' in str(i):\n",
    "        Educ_array[j]=str(float(df.iat[j,7][0])) #Education is the 8th column\n",
    "    Educ_array[j]=float(Educ_array[j])   #Educ_array must be of type float\n",
    "    j+=1   \n",
    "#np.unique(Educ_array)  # check labels in Educ variable\n",
    "j=0\n",
    "for k in Gender_array:  # correction of Educ levels (contain values like '6,  6'  -> must be transformed to 6.0)\n",
    "    if ',' in str(k):\n",
    "        Gender_array[j]=str(float(df.iat[j,4][0]))   #Gender is the 5th column\n",
    "    Gender_array[j]=float(Gender_array[j])   #Gender_array must be of type float\n",
    "    j+=1   \n",
    "#np.unique(Gender_array)  # check labels in Gender variable"
   ]
  },
  {
   "cell_type": "code",
   "execution_count": 1546,
   "metadata": {},
   "outputs": [
    {
     "name": "stdout",
     "output_type": "stream",
     "text": [
      "MOOC3 shape: (1324, 17)\n",
      "MOOC4 shape: (219, 17)\n"
     ]
    }
   ],
   "source": [
    "MOOC3=df[df.ID<'MOOC4'] \n",
    "MOOC4=df[df.ID>='MOOC4'] \n",
    "print(\"MOOC3 shape: {}\".format(MOOC3.shape))   # view dimensions of dataset\n",
    "print(\"MOOC4 shape: {}\".format(MOOC4.shape))"
   ]
  },
  {
   "cell_type": "markdown",
   "metadata": {},
   "source": [
    "## Descriptive Statistics"
   ]
  },
  {
   "cell_type": "code",
   "execution_count": 1547,
   "metadata": {},
   "outputs": [
    {
     "data": {
      "text/plain": [
       "array([[<AxesSubplot:title={'center':'SRL START num'}>]], dtype=object)"
      ]
     },
     "execution_count": 1547,
     "metadata": {},
     "output_type": "execute_result"
    },
    {
     "data": {
      "image/png": "[encoded data removed]",
      "text/plain": [
       "<Figure size 432x288 with 1 Axes>"
      ]
     },
     "metadata": {
      "needs_background": "light"
     },
     "output_type": "display_data"
    }
   ],
   "source": [
    "MOOC3.hist(column='SRL START num', bins=15)"
   ]
  },
  {
   "cell_type": "code",
   "execution_count": 1548,
   "metadata": {},
   "outputs": [
    {
     "data": {
      "text/plain": [
       "array([[<AxesSubplot:title={'center':'Outro SRL'}>]], dtype=object)"
      ]
     },
     "execution_count": 1548,
     "metadata": {},
     "output_type": "execute_result"
    },
    {
     "data": {
      "image/png": "[encoded data removed]",
      "text/plain": [
       "<Figure size 432x288 with 1 Axes>"
      ]
     },
     "metadata": {
      "needs_background": "light"
     },
     "output_type": "display_data"
    }
   ],
   "source": [
    "MOOC3.hist(column='Outro SRL', bins=15)"
   ]
  },
  {
   "cell_type": "code",
   "execution_count": 1549,
   "metadata": {},
   "outputs": [
    {
     "data": {
      "text/plain": [
       "array([[<AxesSubplot:title={'center':'SRL START num'}>]], dtype=object)"
      ]
     },
     "execution_count": 1549,
     "metadata": {},
     "output_type": "execute_result"
    },
    {
     "data": {
      "image/png": "[encoded data removed]",
      "text/plain": [
       "<Figure size 432x288 with 1 Axes>"
      ]
     },
     "metadata": {
      "needs_background": "light"
     },
     "output_type": "display_data"
    }
   ],
   "source": [
    "MOOC4.hist(column='SRL START num', bins=15)"
   ]
  },
  {
   "cell_type": "code",
   "execution_count": 1550,
   "metadata": {},
   "outputs": [
    {
     "data": {
      "text/plain": [
       "array([[<AxesSubplot:title={'center':'Outro SRL'}>]], dtype=object)"
      ]
     },
     "execution_count": 1550,
     "metadata": {},
     "output_type": "execute_result"
    },
    {
     "data": {
      "image/png": "[encoded data removed]",
      "text/plain": [
       "<Figure size 432x288 with 1 Axes>"
      ]
     },
     "metadata": {
      "needs_background": "light"
     },
     "output_type": "display_data"
    }
   ],
   "source": [
    "MOOC4.hist(column='Outro SRL', bins=15)"
   ]
  },
  {
   "cell_type": "markdown",
   "metadata": {},
   "source": [
    "### Explore with paired t-test  whether the two means of two related samples ( Into SRL και Outro SRL) are significantly different. \n",
    "Η0 : μ 1 =μ 2\n",
    "Ηa : μ 1 ≠μ 2"
   ]
  },
  {
   "cell_type": "code",
   "execution_count": 1551,
   "metadata": {},
   "outputs": [
    {
     "name": "stdout",
     "output_type": "stream",
     "text": [
      "SRL START num\n",
      "Kolmogorov-Smirnov test = 0.9889, p = 0.0000\n",
      "p <= 0.05: the null hypothesis that the data are normally distributed is rejected\n"
     ]
    }
   ],
   "source": [
    "# Normality/Variance criteria\n",
    "stat, p=stats.kstest(df['SRL START num'], 'norm')\n",
    "print('SRL START num')\n",
    "print('Kolmogorov-Smirnov test = %.4f, p = %.4f' % (stat, p))\n",
    "#st.kstest(x, 'norm')\n",
    "if (p > 0.05):\n",
    "  print('p > 0.05: the null hypothesis that the data are normally distributed is not rejected')\n",
    "else:\n",
    "  print('p <= 0.05: the null hypothesis that the data are normally distributed is rejected')"
   ]
  },
  {
   "cell_type": "code",
   "execution_count": 1552,
   "metadata": {},
   "outputs": [
    {
     "data": {
      "text/plain": [
       "LeveneResult(statistic=nan, pvalue=nan)"
      ]
     },
     "execution_count": 1552,
     "metadata": {},
     "output_type": "execute_result"
    }
   ],
   "source": [
    "stats.levene(df['SRL START num'], df['Outro SRL'])"
   ]
  },
  {
   "cell_type": "markdown",
   "metadata": {},
   "source": [
    "### Normality criterion is violated - Therefore, we'll run Wilcoxon signed-rank test"
   ]
  },
  {
   "cell_type": "code",
   "execution_count": 1553,
   "metadata": {},
   "outputs": [
    {
     "data": {
      "text/plain": [
       "(69954.0, 4.266284236904034e-198)"
      ]
     },
     "execution_count": 1553,
     "metadata": {},
     "output_type": "execute_result"
    }
   ],
   "source": [
    "# Carrying out the Wilcoxon test\n",
    "from scipy.stats import wilcoxon\n",
    "d = df['Outro SRL'] - df['SRL START num']\n",
    "value, p = stats.wilcoxon(d)\n",
    "value, p"
   ]
  },
  {
   "cell_type": "code",
   "execution_count": 1554,
   "metadata": {},
   "outputs": [
    {
     "name": "stdout",
     "output_type": "stream",
     "text": [
      "p <= 0.05: the null hypothesis that the two groups are sampled from populations with identical distributions is rejected\n",
      "we have statistically significant evidence at α=0.05 to show that START and END SRL scores differ\n"
     ]
    }
   ],
   "source": [
    "if (p > 0.05): \n",
    "  print('p > 0.05: the null hypothesis that the two groups are sampled from populations with identical distributions is not rejected')\n",
    "else: # Στατιστικά σημαντική διαφορά στις κατανομές των κλικ των δύο SRL scores\n",
    "  print('p <= 0.05: the null hypothesis that the two groups are sampled from populations with identical distributions is rejected')\n",
    "  print('we have statistically significant evidence at α=0.05 to show that START and END SRL scores differ')"
   ]
  },
  {
   "cell_type": "code",
   "execution_count": 1555,
   "metadata": {},
   "outputs": [
    {
     "name": "stdout",
     "output_type": "stream",
     "text": [
      "                           MOOC3\n"
     ]
    },
    {
     "data": {
      "image/png": "[encoded data removed]",
      "text/plain": [
       "<Figure size 432x288 with 1 Axes>"
      ]
     },
     "metadata": {
      "needs_background": "light"
     },
     "output_type": "display_data"
    }
   ],
   "source": [
    "plot=sn.countplot(MOOC3['DROPOUT'])\n",
    "print('                           MOOC3')\n",
    "\n",
    "# 1 DROPOUT"
   ]
  },
  {
   "cell_type": "code",
   "execution_count": 1556,
   "metadata": {},
   "outputs": [
    {
     "name": "stdout",
     "output_type": "stream",
     "text": [
      "                           MOOC4\n"
     ]
    },
    {
     "data": {
      "image/png": "[encoded data removed]",
      "text/plain": [
       "<Figure size 432x288 with 1 Axes>"
      ]
     },
     "metadata": {
      "needs_background": "light"
     },
     "output_type": "display_data"
    }
   ],
   "source": [
    "plot=sn.countplot(MOOC4['DROPOUT'])\n",
    "print('                           MOOC4')\n",
    "\n",
    "# 1 DROPOUT"
   ]
  },
  {
   "cell_type": "code",
   "execution_count": 1557,
   "metadata": {},
   "outputs": [
    {
     "name": "stdout",
     "output_type": "stream",
     "text": [
      "MOOC3 Primary goal is MOOC completion & certification (1)\n"
     ]
    },
    {
     "data": {
      "image/png": "[encoded data removed]",
      "text/plain": [
       "<Figure size 432x288 with 1 Axes>"
      ]
     },
     "metadata": {
      "needs_background": "light"
     },
     "output_type": "display_data"
    }
   ],
   "source": [
    "plot=sn.countplot(MOOC3['Πρόθεση_συμμ'])\n",
    "print('MOOC3 Primary goal is MOOC completion & certification (1)')\n",
    "\n",
    "#1 --> Σκοπεύω να παρακολουθήσω όλο το μάθημα, να απαντήσω σε ασκήσεις-εργασίες και να πάρω και τη βεβαίωση επιτυχούς ολοκλήρωσης\n",
    "#2 --> Σκοπεύω να παρακολουθήσω όλο το μάθημα, να απαντήσω σε ασκήσεις-εργασίες αλλά δεν με ενδιαφέρει αυτή τη στιγμή η βεβαίωση επιτυχούς ολοκλήρωσης\n",
    "#3 --> Σκοπεύω να παρακολουθήσω το μάθημα και να απαντήσω σε ασκήσεις-εργασίες στο βαθμό που θα μπορέσω χωρίς να με ενδιαφέρει ιδιαίτερα η ολοκλήρωσή του\n",
    "#4 --> Σκοπεύω να εξετάσω το υλικό του μαθήματος στην αρχή και να αποφασίσω στην πορεία αν και πόσο θα το παρακολουθήσω\n",
    "#5 --> Σκοπεύω να παρακολουθήσω μόνο τα εκπαιδευτικά βίντεο του μαθήματος και δεν με ενδιαφέρουν οι ασκήσεις-εργασίες\n",
    "#6 --> Έκανα εγγραφή από απλή περιέργεια για να έχω και πρόσβαση στο υλικό. Δεν γνωρίζω τώρα αν και πόσο θα παρακολουθήσω\n",
    "#7 --> Τίποτε από τα παραπάνω"
   ]
  },
  {
   "cell_type": "code",
   "execution_count": 1558,
   "metadata": {},
   "outputs": [
    {
     "name": "stdout",
     "output_type": "stream",
     "text": [
      "MOOC4 Primary goal is  MOOC completion & Certification (1)\n"
     ]
    },
    {
     "data": {
      "image/png": "[encoded data removed]",
      "text/plain": [
       "<Figure size 432x288 with 1 Axes>"
      ]
     },
     "metadata": {
      "needs_background": "light"
     },
     "output_type": "display_data"
    }
   ],
   "source": [
    "plot=sn.countplot(MOOC4['Πρόθεση_συμμ'])\n",
    "print('MOOC4 Primary goal is  MOOC completion & Certification (1)')\n",
    "\n",
    "#1 --> Σκοπεύω να παρακολουθήσω όλο το μάθημα, να απαντήσω σε ασκήσεις-εργασίες και να πάρω και τη βεβαίωση επιτυχούς ολοκλήρωσης\n",
    "#2 --> Σκοπεύω να παρακολουθήσω όλο το μάθημα, να απαντήσω σε ασκήσεις-εργασίες αλλά δεν με ενδιαφέρει αυτή τη στιγμή η βεβαίωση επιτυχούς ολοκλήρωσης\n",
    "#3 --> Σκοπεύω να παρακολουθήσω το μάθημα και να απαντήσω σε ασκήσεις-εργασίες στο βαθμό που θα μπορέσω χωρίς να με ενδιαφέρει ιδιαίτερα η ολοκλήρωσή του\n",
    "#4 --> Σκοπεύω να εξετάσω το υλικό του μαθήματος στην αρχή και να αποφασίσω στην πορεία αν και πόσο θα το παρακολουθήσω\n",
    "#5 --> Σκοπεύω να παρακολουθήσω μόνο τα εκπαιδευτικά βίντεο του μαθήματος και δεν με ενδιαφέρουν οι ασκήσεις-εργασίες\n",
    "#6 --> Έκανα εγγραφή από απλή περιέργεια για να έχω και πρόσβαση στο υλικό. Δεν γνωρίζω τώρα αν και πόσο θα παρακολουθήσω\n",
    "#7 --> Τίποτε από τα παραπάνω"
   ]
  },
  {
   "cell_type": "code",
   "execution_count": 1559,
   "metadata": {},
   "outputs": [
    {
     "name": "stdout",
     "output_type": "stream",
     "text": [
      "   Απασχόληση MOOC3 (Είστε εργαζόμενος; 1 Ναι, 2 Όχι)\n"
     ]
    },
    {
     "data": {
      "image/png": "[encoded data removed]",
      "text/plain": [
       "<Figure size 432x288 with 1 Axes>"
      ]
     },
     "metadata": {
      "needs_background": "light"
     },
     "output_type": "display_data"
    }
   ],
   "source": [
    "plot=sn.countplot(MOOC3['Απασχόληση'])  \n",
    "print('   Απασχόληση MOOC3 (Είστε εργαζόμενος; 1 Ναι, 2 Όχι)')\n",
    "# 1 Ναι 2 Όχι "
   ]
  },
  {
   "cell_type": "code",
   "execution_count": 1560,
   "metadata": {},
   "outputs": [
    {
     "name": "stdout",
     "output_type": "stream",
     "text": [
      "   Απασχόληση MOOC4 (Είστε εργαζόμενος; 1 Ναι, 2 Όχι)\n"
     ]
    },
    {
     "data": {
      "image/png": "[encoded data removed]",
      "text/plain": [
       "<Figure size 432x288 with 1 Axes>"
      ]
     },
     "metadata": {
      "needs_background": "light"
     },
     "output_type": "display_data"
    }
   ],
   "source": [
    "plot=sn.countplot(MOOC4['Απασχόληση'])  \n",
    "print('   Απασχόληση MOOC4 (Είστε εργαζόμενος; 1 Ναι, 2 Όχι)')\n",
    "# 1 Ναι 2 Όχι "
   ]
  },
  {
   "cell_type": "code",
   "execution_count": 1561,
   "metadata": {},
   "outputs": [
    {
     "name": "stdout",
     "output_type": "stream",
     "text": [
      "                          MOOC3\n"
     ]
    },
    {
     "data": {
      "image/png": "[encoded data removed]",
      "text/plain": [
       "<Figure size 432x288 with 1 Axes>"
      ]
     },
     "metadata": {
      "needs_background": "light"
     },
     "output_type": "display_data"
    }
   ],
   "source": [
    "plot=sn.countplot(MOOC3['Σπουδές'])   \n",
    "print('                          MOOC3')\n",
    "#2 --> Μεταπτυχιακό\n",
    "#3 --> Πτυχίο Τριτοβάθμιας Εκπαίδευσης (Α.Ε.Ι./ Α.Τ.Ε.Ι./ Τ.Ε.Ι.)\n",
    "#5 --> Απολυτήριο Λυκείου"
   ]
  },
  {
   "cell_type": "code",
   "execution_count": 1562,
   "metadata": {},
   "outputs": [
    {
     "name": "stdout",
     "output_type": "stream",
     "text": [
      "             Οι ηλικίες των μαθητών στο MOOC3\n",
      "Κλάσεις ηλικιών: 1.<17, 2.18–25, 3.26–35, 4.36–45, 5.46–55, 6.56+\n"
     ]
    },
    {
     "data": {
      "image/png": "[encoded data removed]",
      "text/plain": [
       "<Figure size 432x288 with 1 Axes>"
      ]
     },
     "metadata": {
      "needs_background": "light"
     },
     "output_type": "display_data"
    }
   ],
   "source": [
    "plot=sn.countplot(MOOC3['Ηλικία'])   \n",
    "print('             Οι ηλικίες των μαθητών στο MOOC3\\nΚλάσεις ηλικιών: 1.<17, 2.18–25, 3.26–35, 4.36–45, 5.46–55, 6.56+')\n",
    "#1 --> <17\n",
    "#2 --> 18 – 25\n",
    "#3 --> 26 – 35 \n",
    "#4 --> 36 – 45\n",
    "#5 --> 46 – 55 \n",
    "#6 --> 56+"
   ]
  },
  {
   "cell_type": "code",
   "execution_count": 1563,
   "metadata": {},
   "outputs": [
    {
     "data": {
      "text/plain": [
       "Text(0.5, 1.0, 'Εγκατάλειψη του MOOC3 και φύλο')"
      ]
     },
     "execution_count": 1563,
     "metadata": {},
     "output_type": "execute_result"
    },
    {
     "data": {
      "image/png": "[encoded data removed]",
      "text/plain": [
       "<Figure size 432x288 with 1 Axes>"
      ]
     },
     "metadata": {
      "needs_background": "light"
     },
     "output_type": "display_data"
    }
   ],
   "source": [
    "sn.countplot(x='Φύλο', hue='DROPOUT', data=MOOC3)\n",
    "plt.title(\"Εγκατάλειψη του MOOC3 και φύλο\")  #1: DROPOUT\n",
    "#1--> Άντρας\n",
    "#2--> Γυναίκα"
   ]
  },
  {
   "cell_type": "code",
   "execution_count": 1564,
   "metadata": {},
   "outputs": [
    {
     "data": {
      "text/plain": [
       "Text(0.5, 1.0, 'Εγκατάλειψη του MOOC3 ανά ηλικιακό group (0: Ολοκλήρωση, 1: Εγκατάλειψη)\\n Κλάσεις ηλικιών: 1.<17, 2.18–25, 3.26–35, 4.36–45, 5.46–55, 6.56+\\n')"
      ]
     },
     "execution_count": 1564,
     "metadata": {},
     "output_type": "execute_result"
    },
    {
     "data": {
      "image/png": "[encoded data removed]",
      "text/plain": [
       "<Figure size 432x288 with 1 Axes>"
      ]
     },
     "metadata": {
      "needs_background": "light"
     },
     "output_type": "display_data"
    }
   ],
   "source": [
    "sn.countplot(x='Ηλικία', hue='DROPOUT', data=MOOC3) \n",
    "plt.title(\"Εγκατάλειψη του MOOC3 ανά ηλικιακό group (0: Ολοκλήρωση, 1: Εγκατάλειψη)\\n Κλάσεις ηλικιών: 1.<17, 2.18–25, 3.26–35, 4.36–45, 5.46–55, 6.56+\\n\")"
   ]
  },
  {
   "cell_type": "code",
   "execution_count": 1565,
   "metadata": {},
   "outputs": [
    {
     "data": {
      "text/plain": [
       "Text(0.5, 1.0, 'Προφίλ SRL START categ για όσους ολοκλήρωσαν (0.0) - εγκατάλειψαν (1.0) το MOOC3\\n')"
      ]
     },
     "execution_count": 1565,
     "metadata": {},
     "output_type": "execute_result"
    },
    {
     "data": {
      "image/png": "[encoded data removed]",
      "text/plain": [
       "<Figure size 417.5x360 with 1 Axes>"
      ]
     },
     "metadata": {
      "needs_background": "light"
     },
     "output_type": "display_data"
    }
   ],
   "source": [
    "sn.catplot(x='SRL START categ', hue='DROPOUT', data=MOOC3, kind=\"count\")  \n",
    "plt.title(\"Προφίλ SRL START categ για όσους ολοκλήρωσαν (0.0) - εγκατάλειψαν (1.0) το MOOC3\\n\")\n",
    "#1 --> Cluster 1 <4, Καθόλου έως μικρή αυτορρύθμιση\n",
    "#2 --> Cluster 2 4-5, Μέτρια αυτορρύθμιση\n",
    "#3 --> Cluster 3 5-6, Καλή αυτορρύθμιση\n",
    "#4 --> Cluster 4 >6, Υψηλή αυτορρύθμιση"
   ]
  },
  {
   "cell_type": "code",
   "execution_count": 1566,
   "metadata": {},
   "outputs": [
    {
     "data": {
      "text/plain": [
       "Text(0.5, 1.0, 'Προφίλ SRL START categ για όσους ολοκλήρωσαν (0.0) - εγκατάλειψαν (1.0) το MOOC4\\n')"
      ]
     },
     "execution_count": 1566,
     "metadata": {},
     "output_type": "execute_result"
    },
    {
     "data": {
      "image/png": "[encoded data removed]",
      "text/plain": [
       "<Figure size 417.5x360 with 1 Axes>"
      ]
     },
     "metadata": {
      "needs_background": "light"
     },
     "output_type": "display_data"
    }
   ],
   "source": [
    "sn.catplot(x='SRL START categ', hue='DROPOUT', data=MOOC4, kind=\"count\")  \n",
    "plt.title(\"Προφίλ SRL START categ για όσους ολοκλήρωσαν (0.0) - εγκατάλειψαν (1.0) το MOOC4\\n\")\n",
    "#SRL Levels\n",
    "#1 --> Cluster 1 <4, Καθόλου έως μικρή αυτορρύθμιση\n",
    "#2 --> Cluster 2 4-5, Μέτρια αυτορρύθμιση\n",
    "#3 --> Cluster 3 5-6, Καλή αυτορρύθμιση\n",
    "#4 --> Cluster 4 >6, Υψηλή αυτορρύθμιση"
   ]
  },
  {
   "cell_type": "code",
   "execution_count": 1567,
   "metadata": {},
   "outputs": [
    {
     "data": {
      "text/plain": [
       "Text(0.5, 1.0, 'Προφίλ SRL AFTER για όσους ολοκλήρωσαν (0.0) - εγκατάλειψαν (1.0) το MOOC3\\n')"
      ]
     },
     "execution_count": 1567,
     "metadata": {},
     "output_type": "execute_result"
    },
    {
     "data": {
      "image/png": "[encoded data removed]",
      "text/plain": [
       "<Figure size 417.5x360 with 1 Axes>"
      ]
     },
     "metadata": {
      "needs_background": "light"
     },
     "output_type": "display_data"
    }
   ],
   "source": [
    "sn.catplot(x='Cluster (AFTER)', hue='DROPOUT', data=MOOC3, kind=\"count\")  \n",
    "plt.title(\"Προφίλ SRL AFTER για όσους ολοκλήρωσαν (0.0) - εγκατάλειψαν (1.0) το MOOC3\\n\")"
   ]
  },
  {
   "cell_type": "code",
   "execution_count": 1568,
   "metadata": {},
   "outputs": [
    {
     "data": {
      "text/plain": [
       "(830, 17)"
      ]
     },
     "execution_count": 1568,
     "metadata": {},
     "output_type": "execute_result"
    }
   ],
   "source": [
    "MOOC3completers=MOOC3.loc[df['DROPOUT'] == 0.0]  #Keep only the completers\n",
    "MOOC3completers.shape"
   ]
  },
  {
   "cell_type": "code",
   "execution_count": 1569,
   "metadata": {},
   "outputs": [
    {
     "data": {
      "text/plain": [
       "Text(0.5, 1.0, 'Αυτοαναφερόμενο προφίλ SRL στην έναρξη του MOOC\\nτων μαθητών που ολοκλήρωσαν το MOOC3\\n')"
      ]
     },
     "execution_count": 1569,
     "metadata": {},
     "output_type": "execute_result"
    },
    {
     "data": {
      "image/png": "[encoded data removed]",
      "text/plain": [
       "<Figure size 432x288 with 1 Axes>"
      ]
     },
     "metadata": {
      "needs_background": "light"
     },
     "output_type": "display_data"
    }
   ],
   "source": [
    "sn.countplot(x='SRL START categ', data=MOOC3completers) \n",
    "plt.title(\"Αυτοαναφερόμενο προφίλ SRL στην έναρξη του MOOC\\nτων μαθητών που ολοκλήρωσαν το MOOC3\\n\")"
   ]
  },
  {
   "cell_type": "code",
   "execution_count": 1570,
   "metadata": {},
   "outputs": [
    {
     "data": {
      "text/plain": [
       "Text(0.5, 1.0, 'Αυτοαναφερόμενο προφίλ SRL στη λήξη του MOOC\\nτων μαθητών που ολοκλήρωσαν το MOOC3\\n')"
      ]
     },
     "execution_count": 1570,
     "metadata": {},
     "output_type": "execute_result"
    },
    {
     "data": {
      "image/png": "[encoded data removed]",
      "text/plain": [
       "<Figure size 432x288 with 1 Axes>"
      ]
     },
     "metadata": {
      "needs_background": "light"
     },
     "output_type": "display_data"
    }
   ],
   "source": [
    "sn.countplot(x='Cluster (AFTER)', data=MOOC3completers) \n",
    "plt.title(\"Αυτοαναφερόμενο προφίλ SRL στη λήξη του MOOC\\nτων μαθητών που ολοκλήρωσαν το MOOC3\\n\")"
   ]
  },
  {
   "cell_type": "code",
   "execution_count": 1571,
   "metadata": {},
   "outputs": [
    {
     "data": {
      "text/plain": [
       "(120, 17)"
      ]
     },
     "execution_count": 1571,
     "metadata": {},
     "output_type": "execute_result"
    }
   ],
   "source": [
    "MOOC4completers=MOOC4.loc[df['DROPOUT'] == 0.0] \n",
    "MOOC4completers.shape"
   ]
  },
  {
   "cell_type": "code",
   "execution_count": 1572,
   "metadata": {},
   "outputs": [
    {
     "data": {
      "text/plain": [
       "Text(0.5, 1.0, 'Αυτοαναφερόμενο προφίλ SRL στην έναρξη του MOOC\\nτων μαθητών που ολοκλήρωσαν το MOOC4\\n')"
      ]
     },
     "execution_count": 1572,
     "metadata": {},
     "output_type": "execute_result"
    },
    {
     "data": {
      "image/png": "[encoded data removed]",
      "text/plain": [
       "<Figure size 432x288 with 1 Axes>"
      ]
     },
     "metadata": {
      "needs_background": "light"
     },
     "output_type": "display_data"
    }
   ],
   "source": [
    "sn.countplot(x='SRL START categ', data=MOOC4completers) \n",
    "plt.title(\"Αυτοαναφερόμενο προφίλ SRL στην έναρξη του MOOC\\nτων μαθητών που ολοκλήρωσαν το MOOC4\\n\")"
   ]
  },
  {
   "cell_type": "code",
   "execution_count": 1573,
   "metadata": {},
   "outputs": [
    {
     "data": {
      "text/plain": [
       "Text(0.5, 1.0, 'Αυτοαναφερόμενο προφίλ SRL στη λήξη του MOOC\\nτων μαθητών που ολοκλήρωσαν το MOOC4\\n')"
      ]
     },
     "execution_count": 1573,
     "metadata": {},
     "output_type": "execute_result"
    },
    {
     "data": {
      "image/png": "[encoded data removed]",
      "text/plain": [
       "<Figure size 432x288 with 1 Axes>"
      ]
     },
     "metadata": {
      "needs_background": "light"
     },
     "output_type": "display_data"
    }
   ],
   "source": [
    "sn.countplot(x='Cluster (AFTER)', data=MOOC4completers) \n",
    "plt.title(\"Αυτοαναφερόμενο προφίλ SRL στη λήξη του MOOC\\nτων μαθητών που ολοκλήρωσαν το MOOC4\\n\")"
   ]
  },
  {
   "cell_type": "code",
   "execution_count": 1574,
   "metadata": {},
   "outputs": [
    {
     "data": {
      "text/plain": [
       "Text(0.5, 1.0, 'Εγκατάλειψη του MOOC3 ανά επίπεδο εκπαίδευσης')"
      ]
     },
     "execution_count": 1574,
     "metadata": {},
     "output_type": "execute_result"
    },
    {
     "data": {
      "image/png": "[encoded data removed]",
      "text/plain": [
       "<Figure size 432x288 with 1 Axes>"
      ]
     },
     "metadata": {
      "needs_background": "light"
     },
     "output_type": "display_data"
    }
   ],
   "source": [
    "sn.countplot(x='Σπουδές', hue='DROPOUT', data=MOOC3)\n",
    "plt.title(\"Εγκατάλειψη του MOOC3 ανά επίπεδο εκπαίδευσης\")\n",
    "#2 --> Μεταπτυχιακό\n",
    "#3 --> Πτυχίο Τριτοβάθμιας Εκπαίδευσης (Α.Ε.Ι./ Α.Τ.Ε.Ι./ Τ.Ε.Ι.)\n",
    "#5 --> Απολυτήριο Λυκείου"
   ]
  },
  {
   "cell_type": "code",
   "execution_count": 1575,
   "metadata": {},
   "outputs": [
    {
     "data": {
      "text/plain": [
       "Text(0.5, 1.0, 'SRL ανά ηλικιακό group')"
      ]
     },
     "execution_count": 1575,
     "metadata": {},
     "output_type": "execute_result"
    },
    {
     "data": {
      "image/png": "[encoded data removed]",
      "text/plain": [
       "<Figure size 432x288 with 1 Axes>"
      ]
     },
     "metadata": {
      "needs_background": "light"
     },
     "output_type": "display_data"
    }
   ],
   "source": [
    "sn.countplot(x='SRL START categ', hue='Ηλικία', data=MOOC3)\n",
    "plt.xlabel('Self Reported SRL at start')\n",
    "plt.ylabel('Count of Ηλικία')\n",
    "plt.title(\"SRL ανά ηλικιακό group\")\n",
    "#1 --> <17\n",
    "#2 --> 18 – 25\n",
    "#3 --> 26 – 35 \n",
    "#4 --> 36 – 45\n",
    "#5 --> 46 – 55 \n",
    "#6 --> 56+"
   ]
  },
  {
   "cell_type": "code",
   "execution_count": 1576,
   "metadata": {},
   "outputs": [
    {
     "data": {
      "text/plain": [
       "Text(0.5, 1.0, 'Εγκατάλειψη του MOOC3 ανά ηλικιακό group (1: Dropout)')"
      ]
     },
     "execution_count": 1576,
     "metadata": {},
     "output_type": "execute_result"
    },
    {
     "data": {
      "image/png": "[encoded data removed]",
      "text/plain": [
       "<Figure size 432x288 with 1 Axes>"
      ]
     },
     "metadata": {
      "needs_background": "light"
     },
     "output_type": "display_data"
    }
   ],
   "source": [
    "sn.countplot(x='DROPOUT', hue='Ηλικία', data=MOOC3)\n",
    "plt.xlabel('Dropout')\n",
    "plt.ylabel('Count of Ηλικία')\n",
    "plt.title(\"Εγκατάλειψη του MOOC3 ανά ηλικιακό group (1: Dropout)\")"
   ]
  },
  {
   "cell_type": "code",
   "execution_count": 1577,
   "metadata": {},
   "outputs": [
    {
     "name": "stdout",
     "output_type": "stream",
     "text": [
      "                          MOOC4\n"
     ]
    },
    {
     "data": {
      "image/png": "[encoded data removed]",
      "text/plain": [
       "<Figure size 432x288 with 1 Axes>"
      ]
     },
     "metadata": {
      "needs_background": "light"
     },
     "output_type": "display_data"
    }
   ],
   "source": [
    "plot=sn.countplot(MOOC4['Σπουδές'])   \n",
    "print('                          MOOC4')"
   ]
  },
  {
   "cell_type": "code",
   "execution_count": 1578,
   "metadata": {},
   "outputs": [
    {
     "name": "stdout",
     "output_type": "stream",
     "text": [
      "MOOC3 -  SRL at START - SRL levels: 1 Low, 4 High\n"
     ]
    },
    {
     "data": {
      "image/png": "[encoded data removed]",
      "text/plain": [
       "<Figure size 432x288 with 1 Axes>"
      ]
     },
     "metadata": {
      "needs_background": "light"
     },
     "output_type": "display_data"
    }
   ],
   "source": [
    "plot=sn.countplot(MOOC3['SRL START categ']) \n",
    "print('MOOC3 -  SRL at START - SRL levels: 1 Low, 4 High')\n",
    "#SRL Levels\n",
    "#1 --> Cluster 1 <4, Καθόλου έως μικρή αυτορρύθμιση\n",
    "#2 --> Cluster 2 4-5, Μέτρια αυτορρύθμιση\n",
    "#3 --> Cluster 3 5-6, Καλή αυτορρύθμιση\n",
    "#4 --> Cluster 4 >6, Υψηλή αυτορρύθμιση"
   ]
  },
  {
   "cell_type": "code",
   "execution_count": 1579,
   "metadata": {},
   "outputs": [
    {
     "name": "stdout",
     "output_type": "stream",
     "text": [
      "MOOC3 - SRL at END (SRL levels: 1 Low, 4 High\n"
     ]
    },
    {
     "data": {
      "image/png": "[encoded data removed]",
      "text/plain": [
       "<Figure size 432x288 with 1 Axes>"
      ]
     },
     "metadata": {
      "needs_background": "light"
     },
     "output_type": "display_data"
    }
   ],
   "source": [
    "plot=sn.countplot(MOOC3['Cluster (AFTER)'])\n",
    "print('MOOC3 - SRL at END (SRL levels: 1 Low, 4 High')\n",
    "\n",
    "# SRL levels (1 Low, 4 High)"
   ]
  },
  {
   "cell_type": "code",
   "execution_count": 1580,
   "metadata": {},
   "outputs": [
    {
     "name": "stdout",
     "output_type": "stream",
     "text": [
      "                MOOC4 - SRL at START  \n"
     ]
    },
    {
     "data": {
      "image/png": "[encoded data removed]",
      "text/plain": [
       "<Figure size 432x288 with 1 Axes>"
      ]
     },
     "metadata": {
      "needs_background": "light"
     },
     "output_type": "display_data"
    }
   ],
   "source": [
    "plot=sn.countplot(MOOC4['SRL START categ']) \n",
    "print('                MOOC4 - SRL at START  ')\n",
    "\n",
    "# SRL levels (1 Low, 4 High)"
   ]
  },
  {
   "cell_type": "code",
   "execution_count": 1581,
   "metadata": {},
   "outputs": [
    {
     "name": "stdout",
     "output_type": "stream",
     "text": [
      "                MOOC4 - SRL at END  \n"
     ]
    },
    {
     "data": {
      "image/png": "[encoded data removed]",
      "text/plain": [
       "<Figure size 432x288 with 1 Axes>"
      ]
     },
     "metadata": {
      "needs_background": "light"
     },
     "output_type": "display_data"
    }
   ],
   "source": [
    "plot=sn.countplot(MOOC4['Cluster (AFTER)'])\n",
    "print('                MOOC4 - SRL at END  ')"
   ]
  },
  {
   "cell_type": "code",
   "execution_count": 1582,
   "metadata": {},
   "outputs": [],
   "source": [
    "MOOC3_Intro_SRL_array = MOOC3['SRL START num'].to_numpy()  # Convert DataFrame Column to Numpy Array \n",
    "MOOC3_Askisi1= MOOC3['Επίδοση_Α1'].to_numpy()\n",
    "MOOC3_Gender_array=MOOC3['Φύλο'].to_numpy()\n",
    "MOOC3_Age_array=MOOC3['Ηλικία'].to_numpy()\n",
    "MOOC3_Work_array=MOOC3['Απασχόληση'].to_numpy()\n",
    "MOOC3_Educ_array=MOOC3['Σπουδές'].to_numpy()\n",
    "MOOC3_Past_MOOC_Exper_array=MOOC3['Εμπειρία_MOOC'].to_numpy()\n",
    "MOOC3_Past_Programming_Exper_array=MOOC3['Εμπειρία_ προγρ'].to_numpy()\n",
    "MOOC3_Past_Python_Exper_array=MOOC3['Εμπειρία_ Python'].to_numpy()\n",
    "MOOC3_Particip_Intention_array=MOOC3['Πρόθεση_συμμ'].to_numpy()\n",
    "\n",
    "MOOC4_Intro_SRL_array = MOOC4['SRL START num'].to_numpy()  # Convert DataFrame Column to Numpy Array \n",
    "MOOC4_Askisi1= MOOC4['Επίδοση_Α1'].to_numpy()\n",
    "MOOC4_Gender_array=MOOC4['Φύλο'].to_numpy()\n",
    "MOOC4_Age_array=MOOC4['Ηλικία'].to_numpy()\n",
    "MOOC4_Work_array=MOOC4['Απασχόληση'].to_numpy()\n",
    "MOOC4_Educ_array=MOOC4['Σπουδές'].to_numpy()\n",
    "MOOC4_Past_MOOC_Exper_array=MOOC4['Εμπειρία_MOOC'].to_numpy()\n",
    "MOOC4_Past_Programming_Exper_array=MOOC4['Εμπειρία_ προγρ'].to_numpy()\n",
    "MOOC4_Past_Python_Exper_array=MOOC4['Εμπειρία_ Python'].to_numpy()\n",
    "MOOC4_Particip_Intention_array=MOOC4['Πρόθεση_συμμ'].to_numpy()"
   ]
  },
  {
   "cell_type": "code",
   "execution_count": 1583,
   "metadata": {},
   "outputs": [],
   "source": [
    "def pre_process_df(dataset, features):\n",
    "    if ('Φύλο' in features):  #Remove rows where Gender='0.0'\n",
    "        dataset = dataset.loc[(dataset['Φύλο'] != 0.0)]      \n",
    "    if ('Επίδοση_Α1' in features):\n",
    "        dataset=dataset.dropna(subset=['Επίδοση_Α1'])\n",
    "    if ('Απασχόληση' in features):  \n",
    "        dataset = dataset.loc[(dataset['Απασχόληση'] != 0.0)]       \n",
    "    if ('Σπουδές' in features):  \n",
    "        dataset = dataset.loc[(dataset['Σπουδές'] != 0.0)]\n",
    "    if ('Εμπειρία_MOOC' in features): \n",
    "        dataset = dataset.loc[(dataset['Εμπειρία_MOOC'] != 0.0)]\n",
    "    if ('Πρόθεση_συμμ' in features):\n",
    "        dataset = dataset.loc[(dataset['Πρόθεση_συμμ'] != 0.0)]\n",
    "    return\n",
    "\n",
    "MOOC3=MOOC3.dropna(subset=['Επίδοση_Α1'])\n",
    "MOOC4=MOOC4.dropna(subset=['Επίδοση_Α1'])"
   ]
  },
  {
   "cell_type": "markdown",
   "metadata": {},
   "source": [
    "### Keep only students who submitted First week's big assessment and perform some statistics"
   ]
  },
  {
   "cell_type": "code",
   "execution_count": 1584,
   "metadata": {},
   "outputs": [
    {
     "name": "stdout",
     "output_type": "stream",
     "text": [
      "MOOC3 Dropout rates for students who submitted first weeks big assessment\n"
     ]
    },
    {
     "data": {
      "image/png": "[encoded data removed]",
      "text/plain": [
       "<Figure size 432x288 with 1 Axes>"
      ]
     },
     "metadata": {
      "needs_background": "light"
     },
     "output_type": "display_data"
    }
   ],
   "source": [
    "# MOOC3 dropout rates for students who submitted first week's big assessment at the end of the week\n",
    "plot=sn.countplot(MOOC3['DROPOUT'])\n",
    "print('MOOC3 Dropout rates for students who submitted first week''s big assessment')"
   ]
  },
  {
   "cell_type": "code",
   "execution_count": 1585,
   "metadata": {},
   "outputs": [
    {
     "name": "stdout",
     "output_type": "stream",
     "text": [
      "MOOC4 Dropout rates for students who submitted first weeks big assessment\n"
     ]
    },
    {
     "data": {
      "image/png": "[encoded data removed]",
      "text/plain": [
       "<Figure size 432x288 with 1 Axes>"
      ]
     },
     "metadata": {
      "needs_background": "light"
     },
     "output_type": "display_data"
    }
   ],
   "source": [
    "# MOOC4 dropout rates for students who submitted first week's big assessment at the end of the week\n",
    "plot=sn.countplot(MOOC4['DROPOUT'])\n",
    "print('MOOC4 Dropout rates for students who submitted first week''s big assessment')"
   ]
  },
  {
   "cell_type": "code",
   "execution_count": 1586,
   "metadata": {},
   "outputs": [
    {
     "data": {
      "text/plain": [
       "0.0    820\n",
       "1.0    107\n",
       "Name: DROPOUT, dtype: int64"
      ]
     },
     "execution_count": 1586,
     "metadata": {},
     "output_type": "execute_result"
    }
   ],
   "source": [
    "MOOC3[\"DROPOUT\"].value_counts()"
   ]
  },
  {
   "cell_type": "code",
   "execution_count": 1587,
   "metadata": {},
   "outputs": [
    {
     "data": {
      "text/plain": [
       "0.0    117\n",
       "1.0     17\n",
       "Name: DROPOUT, dtype: int64"
      ]
     },
     "execution_count": 1587,
     "metadata": {},
     "output_type": "execute_result"
    }
   ],
   "source": [
    "MOOC4[\"DROPOUT\"].value_counts()"
   ]
  },
  {
   "cell_type": "markdown",
   "metadata": {},
   "source": [
    "# # Feature selection guidance (3 techniques)"
   ]
  },
  {
   "cell_type": "code",
   "execution_count": 1588,
   "metadata": {},
   "outputs": [],
   "source": [
    "features_sel=MOOC3.drop(columns=['ID','STARTED', 'Cluster (AFTER)','Subgroup', 'Outro SRL'])  "
   ]
  },
  {
   "cell_type": "markdown",
   "metadata": {},
   "source": [
    "#### 1st technique: Apply SelectKBest class to extract top 10 best features"
   ]
  },
  {
   "cell_type": "code",
   "execution_count": 1589,
   "metadata": {},
   "outputs": [
    {
     "name": "stdout",
     "output_type": "stream",
     "text": [
      "              Specs     Score\n",
      "3        Επίδοση_Α1  4.554671\n",
      "8      Πρόθεση_συμμ  2.089208\n",
      "5     Εμπειρία_MOOC  1.759322\n",
      "7  Εμπειρία_ Python  1.430511\n",
      "1            Ηλικία  1.294622\n",
      "2        Απασχόληση  1.016311\n",
      "9   SRL START categ  0.642582\n",
      "4           Σπουδές  0.588960\n",
      "0              Φύλο  0.077057\n",
      "6   Εμπειρία_ προγρ  0.004450\n"
     ]
    }
   ],
   "source": [
    "#https://towardsdatascience.com/feature-selection-techniques-in-machine-learning-with-python-f24e7da3f36e\n",
    "#https://machinelearningmastery.com/feature-selection-with-categorical-data/\n",
    "#https://machinelearningmastery.com/feature-selection-with-categorical-data/\n",
    "from sklearn.feature_selection import SelectKBest\n",
    "from sklearn.feature_selection import chi2\n",
    "\n",
    "bestfeatures = SelectKBest(score_func=chi2, k=10)\n",
    "\n",
    "X=MOOC3[['Φύλο', 'Ηλικία', 'Απασχόληση', 'Επίδοση_Α1',\n",
    "       'Σπουδές',\n",
    "       'Εμπειρία_MOOC',\n",
    "       'Εμπειρία_ προγρ',\n",
    "       'Εμπειρία_ Python',\n",
    "       'Πρόθεση_συμμ',\n",
    "        'SRL START categ',\n",
    "        ]]\n",
    "y=MOOC3.iloc[:,3] # DROPOUT\n",
    "fit = bestfeatures.fit(X, y)   #[features_sel],MOOC3[['DROPOUT']])\n",
    "dfscores = pd.DataFrame(fit.scores_)\n",
    "dfcolumns = pd.DataFrame(X.columns)\n",
    "#concat two dataframes for better visualization \n",
    "featureScores = pd.concat([dfcolumns,dfscores],axis=1)\n",
    "featureScores.columns = ['Specs','Score']  #naming the dataframe columns\n",
    "print(featureScores.nlargest(11,'Score'))  #print 10 best features"
   ]
  },
  {
   "cell_type": "markdown",
   "metadata": {},
   "source": [
    "#### 2nd technique:Use Tree model"
   ]
  },
  {
   "cell_type": "code",
   "execution_count": 1590,
   "metadata": {},
   "outputs": [
    {
     "name": "stdout",
     "output_type": "stream",
     "text": [
      "[0.05945286 0.11308719 0.03417934 0.17547527 0.13408191 0.06494079\n",
      " 0.11824704 0.08380204 0.07533006 0.14140351]\n"
     ]
    },
    {
     "data": {
      "image/png": "[encoded data removed]",
      "text/plain": [
       "<Figure size 432x288 with 1 Axes>"
      ]
     },
     "metadata": {
      "needs_background": "light"
     },
     "output_type": "display_data"
    }
   ],
   "source": [
    "#https://towardsdatascience.com/feature-selection-techniques-in-machine-learning-with-python-f24e7da3f36e\n",
    "#https://machinelearningmastery.com/feature-selection-with-categorical-data/\n",
    "from sklearn.ensemble import ExtraTreesClassifier\n",
    "import matplotlib.pyplot as plt\n",
    "model = ExtraTreesClassifier()\n",
    "model.fit(X,y)\n",
    "print(model.feature_importances_) #use inbuilt class feature_importances of tree based classifiers\n",
    "#plot graph of feature importances for better visualization\n",
    "feat_importances = pd.Series(model.feature_importances_, index=X.columns)\n",
    "feat_importances.nlargest(10).plot(kind='barh')\n",
    "plt.show()"
   ]
  },
  {
   "cell_type": "markdown",
   "metadata": {},
   "source": [
    "#### 3rd technique: Use Heatmap"
   ]
  },
  {
   "cell_type": "code",
   "execution_count": 1591,
   "metadata": {},
   "outputs": [
    {
     "data": {
      "image/png": "[encoded data removed]",
      "text/plain": [
       "<Figure size 864x864 with 2 Axes>"
      ]
     },
     "metadata": {
      "needs_background": "light"
     },
     "output_type": "display_data"
    }
   ],
   "source": [
    "#https://towardsdatascience.com/feature-selection-techniques-in-machine-learning-with-python-f24e7da3f36e\n",
    "corrmat = features_sel.corr()\n",
    "top_corr_features = corrmat.index\n",
    "plt.figure(figsize=(12,12))\n",
    "#plot heat map\n",
    "g=sn.heatmap(features_sel[top_corr_features].corr(),annot=True,cmap=\"RdYlGn\")"
   ]
  },
  {
   "cell_type": "code",
   "execution_count": 1592,
   "metadata": {},
   "outputs": [],
   "source": [
    "#https://stackoverflow.com/questions/50796024/feature-variable-importance-after-a-pca-analysis\n",
    "def myplot(score,coeff,labels=None):\n",
    "    xs = score[:,0]\n",
    "    ys = score[:,1]\n",
    "    n = coeff.shape[0]\n",
    "    scalex = 1.0/(xs.max() - xs.min())\n",
    "    scaley = 1.0/(ys.max() - ys.min())\n",
    "    plt.scatter(xs * scalex,ys * scaley, c = y)\n",
    "    for i in range(n):\n",
    "        plt.arrow(0, 0, coeff[i,0], coeff[i,1],color = 'r',alpha = 0.5)\n",
    "        if labels is None:\n",
    "            plt.text(coeff[i,0]* 1.15, coeff[i,1] * 1.15, \"Var\"+str(i+1), color = 'g', ha = 'center', va = 'center')\n",
    "        else:\n",
    "            plt.text(coeff[i,0]* 1.15, coeff[i,1] * 1.15, labels[i], color = 'g', ha = 'center', va = 'center')\n",
    "    plt.xlim(-1,1)\n",
    "    plt.ylim(-1,1)\n",
    "    plt.xlabel(\"PC{}\".format(1))\n",
    "    plt.ylabel(\"PC{}\".format(2))\n",
    "    plt.grid()\n",
    "    return\n",
    "\n",
    "def print_confusion_matrix(true_y, predicted_y):\n",
    "    cm = confusion_matrix(true_y, predicted_y)\n",
    "    print('Confusion matrix\\n', cm)\n",
    "    #TP, FN, FP, TN = confusion_matrix(true_y, predicted_y,labels=[1,0]).reshape(-1)\n",
    "    TP1 = 0\n",
    "    FP1 = 0\n",
    "    TN1 = 0\n",
    "    FN1 = 0\n",
    "    #Just to validate that Positive=Dropped=1\n",
    "    for i in range(len(predicted_y)): \n",
    "        if true_y[i]==predicted_y[i]==1: \n",
    "           TP1 += 1\n",
    "        if predicted_y[i]==1 and true_y[i]!=predicted_y[i]:\n",
    "           FP1 += 1\n",
    "        if true_y[i]==predicted_y[i]==0:\n",
    "           TN1 += 1\n",
    "        if predicted_y[i]==0 and true_y[i]!=predicted_y[i]:\n",
    "           FN1 += 1\n",
    "    #print(confusion_matrix(true_y, predicted_y))  #,labels=[1,0]\n",
    "    print('TN, FP, FN, TP : ', TN1, FP1, FN1, TP1) \n",
    "    return\n",
    "\n",
    "#https://stackoverflow.com/questions/42562146/classification-report-with-nested-cross-validation-in-sklearn-average-individua\n",
    "#https://localcoder.org/using-confusion-matrix-as-scoring-metric-in-cross-validation-in-scikit-learn\n",
    "#https://towardsdatascience.com/understanding-the-confusion-matrix-from-scikit-learn-c51d88929c79\n",
    "\n",
    "def print_cv_scores(pipeline, features, label, data, a_model, bagging):\n",
    "    cross_val_scores=0\n",
    "    predicted_targets = np.array([])\n",
    "    actual_targets = np.array([])\n",
    "    #fit and evaluate in MOOC3\n",
    "    for metric in [\"roc_auc\", \"accuracy\",\"precision\", \"recall\",  \"f1\" ]: \n",
    "        cross_val_scores = cross_val_score(pipeline, features, label, scoring=metric, cv=10)\n",
    "        # Fitting is implemented inside the cross_val_score function.\n",
    "        #print(cross_val_scores)\n",
    "        if (metric!='f1'):\n",
    "            print(a_model + '\\t' + data + '\\tbagging: '+ bagging + '\\t' + metric + ': \\t{:.3f} ({:.3f})'\n",
    "                  .format(mean(cross_val_scores), std(cross_val_scores)))\n",
    "        else:\n",
    "            print(a_model + '\\t' + data + '\\tbagging: '+ bagging + '\\t' + metric + ': \\t\\t{:.3f} ({:.3f})'\n",
    "                  .format(mean(cross_val_scores), std(cross_val_scores)))\n",
    "    y_pred = cross_val_predict(pipeline, features, label, cv=10)\n",
    "    print_confusion_matrix(label, y_pred)\n",
    "    print('------------------------- Classification_report -------------------------\\n')\n",
    "    print(classification_report(label, y_pred))\n",
    "    #Test in MOOC4. Model is alreaded fitted with MOOC3 data by using cross_val_score function\n",
    "    MOOC4_y_pred = cross_val_predict(pipeline, MOOC4_features, MOOC4_label, cv=10)\n",
    "    m_accuracy = accuracy_score(MOOC4_label, MOOC4_y_pred)\n",
    "    m_roc_auc = roc_auc_score(MOOC4_label, MOOC4_y_pred)\n",
    "    m_precision = precision_score(MOOC4_label, MOOC4_y_pred)\n",
    "    m_recall = recall_score(MOOC4_label, MOOC4_y_pred)\n",
    "    m_f1 = f1_score(MOOC4_label, MOOC4_y_pred)\n",
    "    calc = [ m_roc_auc, m_accuracy, m_precision, m_recall,  m_f1]\n",
    "    data='MOOC4'\n",
    "    print('\\n========================= TEST IN MOOC4 DATA  ==========================\\n')\n",
    "    # https://stackoverflow.com/questions/61755143/how-do-i-transfer-a-classification-machine-learning-model-from-one-data-set-to-a\n",
    "    for i, metric in enumerate(metrics):          \n",
    "            print(a_model + '\\t' + data + '\\tbagging: '+ bagging + '\\t' + metric + ': \\t{:.3f}'.format(calc[i]))  \n",
    "    print_confusion_matrix(MOOC4_label, MOOC4_y_pred)\n",
    "    print('------------------------- Classification_report -------------------------\\n')\n",
    "    print(classification_report(MOOC4_label, MOOC4_y_pred))\n",
    "    return\n",
    "\n",
    "pipe_NB = Pipeline([('scl', StandardScaler()),\n",
    "    ('pca', PCA(0.9)), \n",
    "    ('clf', GaussianNB())])\n",
    "\n",
    "pipe_LR = Pipeline([('scl', StandardScaler()),\n",
    "    ('pca', PCA(0.9)), \n",
    "    ('clf', LogisticRegression(random_state=42, multi_class='ovr'))])  # binary Logistic Regression\n",
    "\n",
    "pipe_SVM = Pipeline([('scl', StandardScaler()),\n",
    "    ('pca', PCA(0.9)), \n",
    "    ('clf', svm.SVC(random_state=42))])  \n",
    "\n",
    "pipe_DT = Pipeline([('scl', StandardScaler()),\n",
    "    ('pca', PCA(0.9)), \n",
    "    ('clf', tree.DecisionTreeClassifier(random_state=42))])\n",
    "\n",
    "pipe_kNN = Pipeline([('scl', StandardScaler()),\n",
    "    ('pca', PCA(0.9)),\n",
    "    ('clf', neighbors.KNeighborsClassifier(n_neighbors = 3))])\n",
    "\n",
    "pipelines = [pipe_NB, pipe_LR, pipe_SVM, pipe_DT, pipe_kNN]  \n",
    "\n",
    "pipe_dict = {0: 'Gaussian Naive Bayes', 1: 'Logistic Regression', 2: 'Support Vector Machine', 3: 'Decision Tree', \n",
    "             4: 'k Nearest Neighbours (kNN)'}"
   ]
  },
  {
   "cell_type": "markdown",
   "metadata": {},
   "source": [
    "## Print prediction performance scores for selected features by using various metrics (some of them are proposed in comments)"
   ]
  },
  {
   "cell_type": "code",
   "execution_count": 1593,
   "metadata": {},
   "outputs": [
    {
     "name": "stdout",
     "output_type": "stream",
     "text": [
      "1 Πρόθεση_συμμ\n",
      "2 Επίδοση_Α1\n",
      "3 Απασχόληση\n",
      "4 Ηλικία\n",
      "5 SRL START num\n",
      "6 SRL START categ\n",
      "7 Εμπειρία_ προγρ\n",
      "8 Εμπειρία_MOOC\n",
      "9 Εμπειρία_ Python\n",
      "10 Σπουδές\n",
      "11 Φύλο\n",
      "Enter number of features (0 to quit): 5\n",
      "Feature  1 : 1\n",
      "Feature  2 : 3\n",
      "Feature  3 : 4\n",
      "Feature  4 : 5\n",
      "Feature  5 : 8\n",
      "FEATURES:\n",
      "['Πρόθεση_συμμ', 'Απασχόληση', 'Ηλικία', 'SRL START num', 'Εμπειρία_MOOC']\n",
      "\n",
      "4 PCs explain [0.43094409 0.23662826 0.18324967 0.08588008] of total variance.\n",
      "\n",
      "Most important features on every principal component (PC):\n",
      "     0              1\n",
      "0  PC0         Ηλικία\n",
      "1  PC1   Πρόθεση_συμμ\n",
      "2  PC2  SRL START num\n",
      "3  PC3  Εμπειρία_MOOC\n",
      "\n",
      " Visualize the data in a 2D space (only 2 PCs used)\n"
     ]
    },
    {
     "data": {
      "image/png": "[encoded data removed]",
      "text/plain": [
       "<Figure size 432x288 with 1 Axes>"
      ]
     },
     "metadata": {
      "needs_background": "light"
     },
     "output_type": "display_data"
    },
    {
     "name": "stdout",
     "output_type": "stream",
     "text": [
      " ------ cross validation (kfold=10) ------\n",
      "\n",
      "======================Gaussian Naive Bayes======================\n",
      "\n",
      "\n",
      "=================== TRAIN AND VALIDATE IN MOOC3 DATA ===================\n",
      "\n",
      "Gaussian Naive Bayes\tMOOC3\tbagging: no\troc_auc: \t0.630 (0.130)\n",
      "Gaussian Naive Bayes\tMOOC3\tbagging: no\taccuracy: \t0.845 (0.032)\n",
      "Gaussian Naive Bayes\tMOOC3\tbagging: no\tprecision: \t0.231 (0.186)\n",
      "Gaussian Naive Bayes\tMOOC3\tbagging: no\trecall: \t0.161 (0.122)\n",
      "Gaussian Naive Bayes\tMOOC3\tbagging: no\tf1: \t\t0.186 (0.143)\n",
      "Confusion matrix\n",
      " [[766  54]\n",
      " [ 90  17]]\n",
      "TN, FP, FN, TP :  766 54 90 17\n",
      "------------------------- Classification_report -------------------------\n",
      "\n",
      "              precision    recall  f1-score   support\n",
      "\n",
      "         0.0       0.89      0.93      0.91       820\n",
      "         1.0       0.24      0.16      0.19       107\n",
      "\n",
      "    accuracy                           0.84       927\n",
      "   macro avg       0.57      0.55      0.55       927\n",
      "weighted avg       0.82      0.84      0.83       927\n",
      "\n",
      "\n",
      "========================= TEST IN MOOC4 DATA  ==========================\n",
      "\n",
      "Gaussian Naive Bayes\tMOOC4\tbagging: no\troc_auc: \t0.487\n",
      "Gaussian Naive Bayes\tMOOC4\tbagging: no\taccuracy: \t0.851\n",
      "Gaussian Naive Bayes\tMOOC4\tbagging: no\tprecision: \t0.000\n",
      "Gaussian Naive Bayes\tMOOC4\tbagging: no\trecall: \t0.000\n",
      "Gaussian Naive Bayes\tMOOC4\tbagging: no\tf1_score: \t0.000\n",
      "Confusion matrix\n",
      " [[114   3]\n",
      " [ 17   0]]\n",
      "TN, FP, FN, TP :  114 3 17 0\n",
      "------------------------- Classification_report -------------------------\n",
      "\n",
      "              precision    recall  f1-score   support\n",
      "\n",
      "         0.0       0.87      0.97      0.92       117\n",
      "         1.0       0.00      0.00      0.00        17\n",
      "\n",
      "    accuracy                           0.85       134\n",
      "   macro avg       0.44      0.49      0.46       134\n",
      "weighted avg       0.76      0.85      0.80       134\n",
      "\n",
      "\n",
      "================ TRAIN AND VALIDATE IN MOOC3 DATA - bagging ================\n",
      "\n",
      "Gaussian Naive Bayes\tMOOC3\tbagging: yes\troc_auc: \t0.642 (0.134)\n",
      "Gaussian Naive Bayes\tMOOC3\tbagging: yes\taccuracy: \t0.869 (0.018)\n",
      "Gaussian Naive Bayes\tMOOC3\tbagging: yes\tprecision: \t0.167 (0.296)\n",
      "Gaussian Naive Bayes\tMOOC3\tbagging: yes\trecall: \t0.037 (0.046)\n",
      "Gaussian Naive Bayes\tMOOC3\tbagging: yes\tf1: \t\t0.056 (0.069)\n",
      "Confusion matrix\n",
      " [[802  18]\n",
      " [103   4]]\n",
      "TN, FP, FN, TP :  802 18 103 4\n",
      "------------------------- Classification_report -------------------------\n",
      "\n",
      "              precision    recall  f1-score   support\n",
      "\n",
      "         0.0       0.89      0.98      0.93       820\n",
      "         1.0       0.18      0.04      0.06       107\n",
      "\n",
      "    accuracy                           0.87       927\n",
      "   macro avg       0.53      0.51      0.50       927\n",
      "weighted avg       0.80      0.87      0.83       927\n",
      "\n",
      "\n",
      "========================= TEST IN MOOC4 DATA  ==========================\n",
      "\n",
      "Gaussian Naive Bayes\tMOOC4\tbagging: yes\troc_auc: \t0.487\n",
      "Gaussian Naive Bayes\tMOOC4\tbagging: yes\taccuracy: \t0.851\n",
      "Gaussian Naive Bayes\tMOOC4\tbagging: yes\tprecision: \t0.000\n",
      "Gaussian Naive Bayes\tMOOC4\tbagging: yes\trecall: \t0.000\n",
      "Gaussian Naive Bayes\tMOOC4\tbagging: yes\tf1_score: \t0.000\n",
      "Confusion matrix\n",
      " [[114   3]\n",
      " [ 17   0]]\n",
      "TN, FP, FN, TP :  114 3 17 0\n",
      "------------------------- Classification_report -------------------------\n",
      "\n",
      "              precision    recall  f1-score   support\n",
      "\n",
      "         0.0       0.87      0.97      0.92       117\n",
      "         1.0       0.00      0.00      0.00        17\n",
      "\n",
      "    accuracy                           0.85       134\n",
      "   macro avg       0.44      0.49      0.46       134\n",
      "weighted avg       0.76      0.85      0.80       134\n",
      "\n",
      "\n",
      "======================Logistic Regression======================\n",
      "\n",
      "\n",
      "=================== TRAIN AND VALIDATE IN MOOC3 DATA ===================\n",
      "\n",
      "Logistic Regression\tMOOC3\tbagging: no\troc_auc: \t0.589 (0.135)\n",
      "Logistic Regression\tMOOC3\tbagging: no\taccuracy: \t0.885 (0.004)\n",
      "Logistic Regression\tMOOC3\tbagging: no\tprecision: \t0.000 (0.000)\n",
      "Logistic Regression\tMOOC3\tbagging: no\trecall: \t0.000 (0.000)\n",
      "Logistic Regression\tMOOC3\tbagging: no\tf1: \t\t0.000 (0.000)\n",
      "Confusion matrix\n",
      " [[820   0]\n",
      " [107   0]]\n",
      "TN, FP, FN, TP :  820 0 107 0\n",
      "------------------------- Classification_report -------------------------\n",
      "\n",
      "              precision    recall  f1-score   support\n",
      "\n",
      "         0.0       0.88      1.00      0.94       820\n",
      "         1.0       0.00      0.00      0.00       107\n",
      "\n",
      "    accuracy                           0.88       927\n",
      "   macro avg       0.44      0.50      0.47       927\n",
      "weighted avg       0.78      0.88      0.83       927\n",
      "\n",
      "\n",
      "========================= TEST IN MOOC4 DATA  ==========================\n",
      "\n",
      "Logistic Regression\tMOOC4\tbagging: no\troc_auc: \t0.496\n",
      "Logistic Regression\tMOOC4\tbagging: no\taccuracy: \t0.866\n",
      "Logistic Regression\tMOOC4\tbagging: no\tprecision: \t0.000\n",
      "Logistic Regression\tMOOC4\tbagging: no\trecall: \t0.000\n",
      "Logistic Regression\tMOOC4\tbagging: no\tf1_score: \t0.000\n",
      "Confusion matrix\n",
      " [[116   1]\n",
      " [ 17   0]]\n",
      "TN, FP, FN, TP :  116 1 17 0\n",
      "------------------------- Classification_report -------------------------\n",
      "\n",
      "              precision    recall  f1-score   support\n",
      "\n",
      "         0.0       0.87      0.99      0.93       117\n",
      "         1.0       0.00      0.00      0.00        17\n",
      "\n",
      "    accuracy                           0.87       134\n",
      "   macro avg       0.44      0.50      0.46       134\n",
      "weighted avg       0.76      0.87      0.81       134\n",
      "\n",
      "\n",
      "================ TRAIN AND VALIDATE IN MOOC3 DATA - bagging ================\n",
      "\n",
      "Logistic Regression\tMOOC3\tbagging: yes\troc_auc: \t0.565 (0.106)\n",
      "Logistic Regression\tMOOC3\tbagging: yes\taccuracy: \t0.885 (0.004)\n",
      "Logistic Regression\tMOOC3\tbagging: yes\tprecision: \t0.000 (0.000)\n",
      "Logistic Regression\tMOOC3\tbagging: yes\trecall: \t0.000 (0.000)\n",
      "Logistic Regression\tMOOC3\tbagging: yes\tf1: \t\t0.000 (0.000)\n",
      "Confusion matrix\n",
      " [[820   0]\n",
      " [107   0]]\n",
      "TN, FP, FN, TP :  820 0 107 0\n",
      "------------------------- Classification_report -------------------------\n",
      "\n",
      "              precision    recall  f1-score   support\n",
      "\n",
      "         0.0       0.88      1.00      0.94       820\n",
      "         1.0       0.00      0.00      0.00       107\n",
      "\n",
      "    accuracy                           0.88       927\n",
      "   macro avg       0.44      0.50      0.47       927\n",
      "weighted avg       0.78      0.88      0.83       927\n",
      "\n",
      "\n",
      "========================= TEST IN MOOC4 DATA  ==========================\n",
      "\n",
      "Logistic Regression\tMOOC4\tbagging: yes\troc_auc: \t0.496\n",
      "Logistic Regression\tMOOC4\tbagging: yes\taccuracy: \t0.866\n",
      "Logistic Regression\tMOOC4\tbagging: yes\tprecision: \t0.000\n",
      "Logistic Regression\tMOOC4\tbagging: yes\trecall: \t0.000\n",
      "Logistic Regression\tMOOC4\tbagging: yes\tf1_score: \t0.000\n",
      "Confusion matrix\n",
      " [[116   1]\n",
      " [ 17   0]]\n",
      "TN, FP, FN, TP :  116 1 17 0\n",
      "------------------------- Classification_report -------------------------\n",
      "\n",
      "              precision    recall  f1-score   support\n",
      "\n",
      "         0.0       0.87      0.99      0.93       117\n",
      "         1.0       0.00      0.00      0.00        17\n",
      "\n",
      "    accuracy                           0.87       134\n",
      "   macro avg       0.44      0.50      0.46       134\n",
      "weighted avg       0.76      0.87      0.81       134\n",
      "\n",
      "\n",
      "======================Support Vector Machine======================\n",
      "\n",
      "\n",
      "=================== TRAIN AND VALIDATE IN MOOC3 DATA ===================\n",
      "\n",
      "Support Vector Machine\tMOOC3\tbagging: no\troc_auc: \t0.535 (0.068)\n",
      "Support Vector Machine\tMOOC3\tbagging: no\taccuracy: \t0.885 (0.004)\n",
      "Support Vector Machine\tMOOC3\tbagging: no\tprecision: \t0.000 (0.000)\n",
      "Support Vector Machine\tMOOC3\tbagging: no\trecall: \t0.000 (0.000)\n",
      "Support Vector Machine\tMOOC3\tbagging: no\tf1: \t\t0.000 (0.000)\n",
      "Confusion matrix\n",
      " [[820   0]\n",
      " [107   0]]\n",
      "TN, FP, FN, TP :  820 0 107 0\n",
      "------------------------- Classification_report -------------------------\n",
      "\n",
      "              precision    recall  f1-score   support\n",
      "\n",
      "         0.0       0.88      1.00      0.94       820\n",
      "         1.0       0.00      0.00      0.00       107\n",
      "\n",
      "    accuracy                           0.88       927\n",
      "   macro avg       0.44      0.50      0.47       927\n",
      "weighted avg       0.78      0.88      0.83       927\n",
      "\n",
      "\n",
      "========================= TEST IN MOOC4 DATA  ==========================\n",
      "\n",
      "Support Vector Machine\tMOOC4\tbagging: no\troc_auc: \t0.500\n",
      "Support Vector Machine\tMOOC4\tbagging: no\taccuracy: \t0.873\n",
      "Support Vector Machine\tMOOC4\tbagging: no\tprecision: \t0.000\n",
      "Support Vector Machine\tMOOC4\tbagging: no\trecall: \t0.000\n",
      "Support Vector Machine\tMOOC4\tbagging: no\tf1_score: \t0.000\n",
      "Confusion matrix\n",
      " [[117   0]\n",
      " [ 17   0]]\n",
      "TN, FP, FN, TP :  117 0 17 0\n",
      "------------------------- Classification_report -------------------------\n",
      "\n",
      "              precision    recall  f1-score   support\n",
      "\n",
      "         0.0       0.87      1.00      0.93       117\n",
      "         1.0       0.00      0.00      0.00        17\n",
      "\n",
      "    accuracy                           0.87       134\n",
      "   macro avg       0.44      0.50      0.47       134\n",
      "weighted avg       0.76      0.87      0.81       134\n",
      "\n",
      "\n",
      "================ TRAIN AND VALIDATE IN MOOC3 DATA - bagging ================\n",
      "\n",
      "Support Vector Machine\tMOOC3\tbagging: yes\troc_auc: \t0.646 (0.086)\n",
      "Support Vector Machine\tMOOC3\tbagging: yes\taccuracy: \t0.885 (0.004)\n",
      "Support Vector Machine\tMOOC3\tbagging: yes\tprecision: \t0.000 (0.000)\n",
      "Support Vector Machine\tMOOC3\tbagging: yes\trecall: \t0.000 (0.000)\n",
      "Support Vector Machine\tMOOC3\tbagging: yes\tf1: \t\t0.000 (0.000)\n",
      "Confusion matrix\n",
      " [[820   0]\n",
      " [107   0]]\n",
      "TN, FP, FN, TP :  820 0 107 0\n",
      "------------------------- Classification_report -------------------------\n",
      "\n",
      "              precision    recall  f1-score   support\n",
      "\n",
      "         0.0       0.88      1.00      0.94       820\n",
      "         1.0       0.00      0.00      0.00       107\n",
      "\n",
      "    accuracy                           0.88       927\n",
      "   macro avg       0.44      0.50      0.47       927\n",
      "weighted avg       0.78      0.88      0.83       927\n",
      "\n",
      "\n",
      "========================= TEST IN MOOC4 DATA  ==========================\n",
      "\n",
      "Support Vector Machine\tMOOC4\tbagging: yes\troc_auc: \t0.500\n",
      "Support Vector Machine\tMOOC4\tbagging: yes\taccuracy: \t0.873\n",
      "Support Vector Machine\tMOOC4\tbagging: yes\tprecision: \t0.000\n",
      "Support Vector Machine\tMOOC4\tbagging: yes\trecall: \t0.000\n",
      "Support Vector Machine\tMOOC4\tbagging: yes\tf1_score: \t0.000\n",
      "Confusion matrix\n",
      " [[117   0]\n",
      " [ 17   0]]\n",
      "TN, FP, FN, TP :  117 0 17 0\n",
      "------------------------- Classification_report -------------------------\n",
      "\n",
      "              precision    recall  f1-score   support\n",
      "\n",
      "         0.0       0.87      1.00      0.93       117\n",
      "         1.0       0.00      0.00      0.00        17\n",
      "\n",
      "    accuracy                           0.87       134\n",
      "   macro avg       0.44      0.50      0.47       134\n",
      "weighted avg       0.76      0.87      0.81       134\n",
      "\n",
      "\n",
      "======================Decision Tree======================\n",
      "\n",
      "\n",
      "=================== TRAIN AND VALIDATE IN MOOC3 DATA ===================\n",
      "\n",
      "Decision Tree\tMOOC3\tbagging: no\troc_auc: \t0.540 (0.058)\n",
      "Decision Tree\tMOOC3\tbagging: no\taccuracy: \t0.810 (0.028)\n",
      "Decision Tree\tMOOC3\tbagging: no\tprecision: \t0.176 (0.118)\n",
      "Decision Tree\tMOOC3\tbagging: no\trecall: \t0.188 (0.130)\n",
      "Decision Tree\tMOOC3\tbagging: no\tf1: \t\t0.175 (0.111)\n",
      "Confusion matrix\n",
      " [[731  89]\n",
      " [ 87  20]]\n",
      "TN, FP, FN, TP :  731 89 87 20\n",
      "------------------------- Classification_report -------------------------\n",
      "\n",
      "              precision    recall  f1-score   support\n",
      "\n",
      "         0.0       0.89      0.89      0.89       820\n",
      "         1.0       0.18      0.19      0.19       107\n",
      "\n",
      "    accuracy                           0.81       927\n",
      "   macro avg       0.54      0.54      0.54       927\n",
      "weighted avg       0.81      0.81      0.81       927\n",
      "\n",
      "\n",
      "========================= TEST IN MOOC4 DATA  ==========================\n",
      "\n",
      "Decision Tree\tMOOC4\tbagging: no\troc_auc: \t0.503\n",
      "Decision Tree\tMOOC4\tbagging: no\taccuracy: \t0.791\n",
      "Decision Tree\tMOOC4\tbagging: no\tprecision: \t0.133\n",
      "Decision Tree\tMOOC4\tbagging: no\trecall: \t0.118\n",
      "Decision Tree\tMOOC4\tbagging: no\tf1_score: \t0.125\n",
      "Confusion matrix\n",
      " [[104  13]\n",
      " [ 15   2]]\n",
      "TN, FP, FN, TP :  104 13 15 2\n",
      "------------------------- Classification_report -------------------------\n",
      "\n",
      "              precision    recall  f1-score   support\n",
      "\n",
      "         0.0       0.87      0.89      0.88       117\n",
      "         1.0       0.13      0.12      0.12        17\n",
      "\n",
      "    accuracy                           0.79       134\n",
      "   macro avg       0.50      0.50      0.50       134\n",
      "weighted avg       0.78      0.79      0.79       134\n",
      "\n",
      "\n",
      "================ TRAIN AND VALIDATE IN MOOC3 DATA - bagging ================\n",
      "\n",
      "Decision Tree\tMOOC3\tbagging: yes\troc_auc: \t0.694 (0.117)\n",
      "Decision Tree\tMOOC3\tbagging: yes\taccuracy: \t0.884 (0.009)\n",
      "Decision Tree\tMOOC3\tbagging: yes\tprecision: \t0.100 (0.300)\n",
      "Decision Tree\tMOOC3\tbagging: yes\trecall: \t0.010 (0.030)\n",
      "Decision Tree\tMOOC3\tbagging: yes\tf1: \t\t0.018 (0.055)\n",
      "Confusion matrix\n",
      " [[818   2]\n",
      " [106   1]]\n",
      "TN, FP, FN, TP :  818 2 106 1\n",
      "------------------------- Classification_report -------------------------\n",
      "\n",
      "              precision    recall  f1-score   support\n",
      "\n",
      "         0.0       0.89      1.00      0.94       820\n",
      "         1.0       0.33      0.01      0.02       107\n",
      "\n",
      "    accuracy                           0.88       927\n",
      "   macro avg       0.61      0.50      0.48       927\n",
      "weighted avg       0.82      0.88      0.83       927\n",
      "\n",
      "\n",
      "========================= TEST IN MOOC4 DATA  ==========================\n",
      "\n",
      "Decision Tree\tMOOC4\tbagging: yes\troc_auc: \t0.479\n",
      "Decision Tree\tMOOC4\tbagging: yes\taccuracy: \t0.836\n",
      "Decision Tree\tMOOC4\tbagging: yes\tprecision: \t0.000\n",
      "Decision Tree\tMOOC4\tbagging: yes\trecall: \t0.000\n",
      "Decision Tree\tMOOC4\tbagging: yes\tf1_score: \t0.000\n",
      "Confusion matrix\n",
      " [[112   5]\n",
      " [ 17   0]]\n",
      "TN, FP, FN, TP :  112 5 17 0\n",
      "------------------------- Classification_report -------------------------\n",
      "\n",
      "              precision    recall  f1-score   support\n",
      "\n",
      "         0.0       0.87      0.96      0.91       117\n",
      "         1.0       0.00      0.00      0.00        17\n",
      "\n",
      "    accuracy                           0.84       134\n",
      "   macro avg       0.43      0.48      0.46       134\n",
      "weighted avg       0.76      0.84      0.80       134\n",
      "\n",
      "\n",
      "======================k Nearest Neighbours (kNN)======================\n",
      "\n",
      "\n",
      "=================== TRAIN AND VALIDATE IN MOOC3 DATA ===================\n",
      "\n",
      "k Nearest Neighbours (kNN)\tMOOC3\tbagging: no\troc_auc: \t0.579 (0.097)\n",
      "k Nearest Neighbours (kNN)\tMOOC3\tbagging: no\taccuracy: \t0.860 (0.023)\n",
      "k Nearest Neighbours (kNN)\tMOOC3\tbagging: no\tprecision: \t0.160 (0.198)\n",
      "k Nearest Neighbours (kNN)\tMOOC3\tbagging: no\trecall: \t0.085 (0.101)\n",
      "k Nearest Neighbours (kNN)\tMOOC3\tbagging: no\tf1: \t\t0.109 (0.131)\n",
      "Confusion matrix\n",
      " [[788  32]\n",
      " [ 98   9]]\n",
      "TN, FP, FN, TP :  788 32 98 9\n",
      "------------------------- Classification_report -------------------------\n",
      "\n",
      "              precision    recall  f1-score   support\n",
      "\n",
      "         0.0       0.89      0.96      0.92       820\n",
      "         1.0       0.22      0.08      0.12       107\n",
      "\n",
      "    accuracy                           0.86       927\n",
      "   macro avg       0.55      0.52      0.52       927\n",
      "weighted avg       0.81      0.86      0.83       927\n",
      "\n",
      "\n",
      "========================= TEST IN MOOC4 DATA  ==========================\n",
      "\n",
      "k Nearest Neighbours (kNN)\tMOOC4\tbagging: no\troc_auc: \t0.512\n",
      "k Nearest Neighbours (kNN)\tMOOC4\tbagging: no\taccuracy: \t0.851\n",
      "k Nearest Neighbours (kNN)\tMOOC4\tbagging: no\tprecision: \t0.200\n",
      "k Nearest Neighbours (kNN)\tMOOC4\tbagging: no\trecall: \t0.059\n",
      "k Nearest Neighbours (kNN)\tMOOC4\tbagging: no\tf1_score: \t0.091\n",
      "Confusion matrix\n",
      " [[113   4]\n",
      " [ 16   1]]\n",
      "TN, FP, FN, TP :  113 4 16 1\n",
      "------------------------- Classification_report -------------------------\n",
      "\n",
      "              precision    recall  f1-score   support\n",
      "\n",
      "         0.0       0.88      0.97      0.92       117\n",
      "         1.0       0.20      0.06      0.09        17\n",
      "\n",
      "    accuracy                           0.85       134\n",
      "   macro avg       0.54      0.51      0.50       134\n",
      "weighted avg       0.79      0.85      0.81       134\n",
      "\n",
      "\n",
      "================ TRAIN AND VALIDATE IN MOOC3 DATA - bagging ================\n",
      "\n",
      "k Nearest Neighbours (kNN)\tMOOC3\tbagging: yes\troc_auc: \t0.658 (0.098)\n",
      "k Nearest Neighbours (kNN)\tMOOC3\tbagging: yes\taccuracy: \t0.885 (0.004)\n",
      "k Nearest Neighbours (kNN)\tMOOC3\tbagging: yes\tprecision: \t0.000 (0.000)\n",
      "k Nearest Neighbours (kNN)\tMOOC3\tbagging: yes\trecall: \t0.000 (0.000)\n",
      "k Nearest Neighbours (kNN)\tMOOC3\tbagging: yes\tf1: \t\t0.000 (0.000)\n",
      "Confusion matrix\n",
      " [[820   0]\n",
      " [107   0]]\n",
      "TN, FP, FN, TP :  820 0 107 0\n",
      "------------------------- Classification_report -------------------------\n",
      "\n",
      "              precision    recall  f1-score   support\n",
      "\n",
      "         0.0       0.88      1.00      0.94       820\n",
      "         1.0       0.00      0.00      0.00       107\n",
      "\n",
      "    accuracy                           0.88       927\n",
      "   macro avg       0.44      0.50      0.47       927\n",
      "weighted avg       0.78      0.88      0.83       927\n",
      "\n",
      "\n",
      "========================= TEST IN MOOC4 DATA  ==========================\n",
      "\n",
      "k Nearest Neighbours (kNN)\tMOOC4\tbagging: yes\troc_auc: \t0.491\n",
      "k Nearest Neighbours (kNN)\tMOOC4\tbagging: yes\taccuracy: \t0.858\n",
      "k Nearest Neighbours (kNN)\tMOOC4\tbagging: yes\tprecision: \t0.000\n",
      "k Nearest Neighbours (kNN)\tMOOC4\tbagging: yes\trecall: \t0.000\n",
      "k Nearest Neighbours (kNN)\tMOOC4\tbagging: yes\tf1_score: \t0.000\n",
      "Confusion matrix\n",
      " [[115   2]\n",
      " [ 17   0]]\n",
      "TN, FP, FN, TP :  115 2 17 0\n",
      "------------------------- Classification_report -------------------------\n",
      "\n",
      "              precision    recall  f1-score   support\n",
      "\n",
      "         0.0       0.87      0.98      0.92       117\n",
      "         1.0       0.00      0.00      0.00        17\n",
      "\n",
      "    accuracy                           0.86       134\n",
      "   macro avg       0.44      0.49      0.46       134\n",
      "weighted avg       0.76      0.86      0.81       134\n",
      "\n"
     ]
    }
   ],
   "source": [
    "all_features= [ 'Πρόθεση_συμμ', 'Επίδοση_Α1', 'Απασχόληση', 'Ηλικία', 'SRL START num', 'SRL START categ',\n",
    "    'Εμπειρία_ προγρ', 'Εμπειρία_MOOC', 'Εμπειρία_ Python', 'Σπουδές', 'Φύλο']\n",
    "item_count=1\n",
    "\n",
    "for i in range(len(all_features)):\n",
    "    print(i+1, all_features[i])\n",
    "myfeatures=[]\n",
    "n = int(input(\"Enter number of features (0 to quit): \")) \n",
    "\n",
    "import sys\n",
    "\n",
    "if (n < 1) or (n > 12):\n",
    "    sys.exit(\"Program Termination\")\n",
    "    \n",
    "for i in range(1, n+1): \n",
    "    print('Feature ', i,': ', end='')\n",
    "    an_element = int(input())\n",
    "    myfeatures.append(all_features[an_element-1]) \n",
    "print('FEATURES:')\n",
    "print(myfeatures)\n",
    "pre_process_df(MOOC3, myfeatures)\n",
    "pre_process_df(MOOC4, myfeatures)\n",
    "\n",
    "metrics=[ 'roc_auc', 'accuracy', 'precision', 'recall', 'f1_score' ]\n",
    "\n",
    "MOOC3['myfeatures_tupled'] = MOOC3[myfeatures].apply(tuple, axis=1)\n",
    "MOOC4['myfeatures_tupled'] = MOOC4[myfeatures].apply(tuple, axis=1)\n",
    "MOOC3_label=MOOC3['DROPOUT'].to_numpy()\n",
    "MOOC3_features=list(MOOC3['myfeatures_tupled'])\n",
    "MOOC4_label=MOOC4['DROPOUT'].to_numpy()\n",
    "MOOC4_features=list(MOOC4['myfeatures_tupled'])\n",
    "k=0\n",
    "for i, pipe in enumerate(pipelines):\n",
    "    pca=PCA(0.9)\n",
    "    pca.fit(MOOC3_features, MOOC3_label)\n",
    "    if (k==0):\n",
    "        print('\\n{0} PCs explain {1} of total variance.'\n",
    "              .format(len(pca.explained_variance_ratio_), pca.explained_variance_ratio_))\n",
    "        k+=1\n",
    "        # number of PCs (principal components)\n",
    "        n_pcs= pca.components_.shape[0]\n",
    "        x_pc = pca.transform(MOOC3_features)\n",
    "        #print(abs( pca.components_ ))\n",
    "#https://stackoverflow.com/questions/50796024/feature-variable-importance-after-a-pca-analysis\n",
    "        # get the index of the most important feature on each component\n",
    "        most_important = [np.abs(pca.components_[i]).argmax() for i in range(n_pcs)]\n",
    "        initial_feature_names = myfeatures\n",
    "        # get the names\n",
    "        most_important_names = [initial_feature_names[most_important[i]] for i in range(n_pcs)]\n",
    "        dic = {'PC{}'.format(i): most_important_names[i] for i in range(n_pcs)}\n",
    "        # build the dataframe\n",
    "        features_df = pd.DataFrame(dic.items())\n",
    "        print('\\nMost important features on every principal component (PC):')\n",
    "        print(features_df)\n",
    "        #Call the function. Use only the 2 PCs.\n",
    "        if len(myfeatures)>1:\n",
    "            print('\\n Visualize the data in a 2D space (only 2 PCs used)' )\n",
    "            myplot(x_pc[:,0:2],np.transpose(pca.components_[0:2, :]))\n",
    "            plt.show()\n",
    "        print(' ------ cross validation (kfold=10) ------')\n",
    "    print('\\n======================'+pipe_dict[i]+ '======================\\n')\n",
    "    print('\\n=================== TRAIN AND VALIDATE IN MOOC3 DATA ===================\\n')\n",
    "    print_cv_scores(pipe, MOOC3_features, MOOC3_label, 'MOOC3', pipe_dict[i], 'no')  # kfold=10\n",
    "    print('\\n================ TRAIN AND VALIDATE IN MOOC3 DATA - bagging ================\\n')\n",
    "    # Instantiate the bagging classifier\n",
    "    bgclassifier = BaggingClassifier(base_estimator=pipe, n_estimators=100, \n",
    "                                 max_features=1.0, #len(all_features)-1,\n",
    "                                 max_samples=100, random_state=1, n_jobs=5)\n",
    "    print_cv_scores(bgclassifier, MOOC3_features, MOOC3_label, 'MOOC3', pipe_dict[i],'yes')  # kfold=10     "
   ]
  }
 ],
 "metadata": {
  "kernelspec": {
   "display_name": "Python 3",
   "language": "python",
   "name": "python3"
  },
  "language_info": {
   "codemirror_mode": {
    "name": "ipython",
    "version": 3
   },
   "file_extension": ".py",
   "mimetype": "text/x-python",
   "name": "python",
   "nbconvert_exporter": "python",
   "pygments_lexer": "ipython3",
   "version": "3.8.8"
  }
 },
 "nbformat": 4,
 "nbformat_minor": 4
}
